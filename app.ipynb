{
 "cells": [
  {
   "cell_type": "code",
   "execution_count": 1,
   "metadata": {
    "gather": {
     "logged": 1710742565637
    }
   },
   "outputs": [],
   "source": [
    "from src.core import DataProcessor"
   ]
  },
  {
   "cell_type": "code",
   "execution_count": 2,
   "metadata": {},
   "outputs": [],
   "source": [
    "results_folder = 'results/demo'\n",
    "corr_name = \"real_data_correlation\"\n",
    "conf_matrix = \"real_data_conf_matrix\"\n",
    "\n",
    "demo_cols = [\"ESI_Key\", \"RaterType\", \"Race\", \"Gender\"]\n",
    "\n",
    "# all the items cols\n",
    "items_cols = [\"BMK_S01_Strategic\", \"BMK_S02_Quick\", \"BMK_S03_Decisive\", \"BMK_S04_Change\", \"BMK_S05_Leading\", \"BMK_S06_Confront\", \"BMK_S07_Participative\",\n",
    "              \"BMK_S08_Build\", \"BMK_S09_Compassion\", \"BMK_S10_Putting\", \"BMK_S11_Respect\", \"BMK_D01_Interper\", \"BMK_D02_DiffBuild\", \"BMK_D03_DiffChange\", \"BMK_D04_Failure\", \"BMK_D05_Narrow\"]"
   ]
  },
  {
   "cell_type": "code",
   "execution_count": 3,
   "metadata": {},
   "outputs": [],
   "source": [
    "data_processor = DataProcessor(data=\"BMK_2018.csv\")\n",
    "\n",
    "data_processor.items_cols = items_cols\n",
    "data_processor.demo_cols = demo_cols"
   ]
  },
  {
   "cell_type": "code",
   "execution_count": 4,
   "metadata": {},
   "outputs": [],
   "source": [
    "df = data_processor.get_data()"
   ]
  },
  {
   "cell_type": "code",
   "execution_count": 5,
   "metadata": {},
   "outputs": [
    {
     "data": {
      "text/plain": [
       "RaterType\n",
       "boss             1.0\n",
       "direct report    3.0\n",
       "other            1.0\n",
       "peer             4.0\n",
       "superior         1.0\n",
       "dtype: float64"
      ]
     },
     "execution_count": 5,
     "metadata": {},
     "output_type": "execute_result"
    }
   ],
   "source": [
    "data_processor.median_rater_counts()"
   ]
  },
  {
   "cell_type": "code",
   "execution_count": 6,
   "metadata": {},
   "outputs": [
    {
     "data": {
      "text/plain": [
       "(166814, 20)"
      ]
     },
     "execution_count": 6,
     "metadata": {},
     "output_type": "execute_result"
    }
   ],
   "source": [
    "data_processor.filter_data_with_all_raters()\n",
    "data_processor.df.shape"
   ]
  },
  {
   "cell_type": "code",
   "execution_count": 7,
   "metadata": {},
   "outputs": [
    {
     "data": {
      "text/plain": [
       "array(['boss', 'direct report', 'peer', 'self'], dtype=object)"
      ]
     },
     "execution_count": 7,
     "metadata": {},
     "output_type": "execute_result"
    }
   ],
   "source": [
    "data_processor.df.RaterType.unique()"
   ]
  },
  {
   "cell_type": "code",
   "execution_count": 8,
   "metadata": {},
   "outputs": [
    {
     "data": {
      "text/plain": [
       "['BMK_S01_Strategic',\n",
       " 'BMK_S02_Quick',\n",
       " 'BMK_S03_Decisive',\n",
       " 'BMK_S04_Change',\n",
       " 'BMK_S05_Leading',\n",
       " 'BMK_S06_Confront',\n",
       " 'BMK_S07_Participative',\n",
       " 'BMK_S08_Build',\n",
       " 'BMK_S09_Compassion',\n",
       " 'BMK_S10_Putting',\n",
       " 'BMK_S11_Respect',\n",
       " 'BMK_D01_Interper',\n",
       " 'BMK_D02_DiffBuild',\n",
       " 'BMK_D03_DiffChange',\n",
       " 'BMK_D04_Failure',\n",
       " 'BMK_D05_Narrow']"
      ]
     },
     "execution_count": 8,
     "metadata": {},
     "output_type": "execute_result"
    }
   ],
   "source": [
    "data_processor.items_cols"
   ]
  },
  {
   "cell_type": "code",
   "execution_count": 9,
   "metadata": {},
   "outputs": [
    {
     "name": "stdout",
     "output_type": "stream",
     "text": [
      "Index(['BMK_S01_Strategic_boss', 'BMK_S01_Strategic_direct report',\n",
      "       'BMK_S01_Strategic_peer', 'BMK_S02_Quick_boss',\n",
      "       'BMK_S02_Quick_direct report', 'BMK_S02_Quick_peer',\n",
      "       'BMK_S03_Decisive_boss', 'BMK_S03_Decisive_direct report',\n",
      "       'BMK_S03_Decisive_peer', 'BMK_S04_Change_boss',\n",
      "       'BMK_S04_Change_direct report', 'BMK_S04_Change_peer',\n",
      "       'BMK_S05_Leading_boss', 'BMK_S05_Leading_direct report',\n",
      "       'BMK_S05_Leading_peer', 'BMK_S06_Confront_boss',\n",
      "       'BMK_S06_Confront_direct report', 'BMK_S06_Confront_peer',\n",
      "       'BMK_S07_Participative_boss', 'BMK_S07_Participative_direct report',\n",
      "       'BMK_S07_Participative_peer', 'BMK_S08_Build_boss',\n",
      "       'BMK_S08_Build_direct report', 'BMK_S08_Build_peer',\n",
      "       'BMK_S09_Compassion_boss', 'BMK_S09_Compassion_direct report',\n",
      "       'BMK_S09_Compassion_peer', 'BMK_S10_Putting_boss',\n",
      "       'BMK_S10_Putting_direct report', 'BMK_S10_Putting_peer',\n",
      "       'BMK_S11_Respect_boss', 'BMK_S11_Respect_direct report',\n",
      "       'BMK_S11_Respect_peer', 'BMK_D01_Interper_boss',\n",
      "       'BMK_D01_Interper_direct report', 'BMK_D01_Interper_peer',\n",
      "       'BMK_D02_DiffBuild_boss', 'BMK_D02_DiffBuild_direct report',\n",
      "       'BMK_D02_DiffBuild_peer', 'BMK_D03_DiffChange_boss',\n",
      "       'BMK_D03_DiffChange_direct report', 'BMK_D03_DiffChange_peer',\n",
      "       'BMK_D04_Failure_boss', 'BMK_D04_Failure_direct report',\n",
      "       'BMK_D04_Failure_peer', 'BMK_D05_Narrow_boss',\n",
      "       'BMK_D05_Narrow_direct report', 'BMK_D05_Narrow_peer'],\n",
      "      dtype='object')\n"
     ]
    }
   ],
   "source": [
    "real_data = data_processor.pivot_rater_data()"
   ]
  },
  {
   "cell_type": "code",
   "execution_count": 10,
   "metadata": {},
   "outputs": [
    {
     "data": {
      "text/plain": [
       "68"
      ]
     },
     "execution_count": 10,
     "metadata": {},
     "output_type": "execute_result"
    }
   ],
   "source": [
    "len(real_data.columns)"
   ]
  },
  {
   "cell_type": "code",
   "execution_count": 11,
   "metadata": {},
   "outputs": [],
   "source": [
    "import numpy as np\n",
    "replacement_map = {\n",
    "    np.nan: 'Unknown',\n",
    "    r'White|Caucasian': 'Caucasian',\n",
    "    r'African American|Black': 'African American',\n",
    "    r'Asian|Chinese|Filipino|Korean|Vietnamese|Japanese': 'Asian',\n",
    "    r'Asian (Other|Indian)': 'Asian',\n",
    "    r'Hispanic': 'Hispanic',\n",
    "    r'Multiracial': 'Multiracial',\n",
    "    r'American Indian or Alaskan Nat|Indigenous': 'Indigenous',\n",
    "    r'Other \\(please specify\\)|Other': 'Other',\n",
    "    r'Native Hawaiian|Samoan': 'Pacific Islander'\n",
    "}\n",
    "\n",
    "real_data['Race'] = real_data['Race'].replace(replacement_map, regex=True)"
   ]
  },
  {
   "cell_type": "code",
   "execution_count": 12,
   "metadata": {},
   "outputs": [],
   "source": [
    "replacement_map = {\n",
    "    np.nan: 'Unknown',\n",
    "    r'UnSpec|NonBin|NotSay|Other': 'Other',\n",
    "    r'Male': 'Male',\n",
    "    r'Female': 'Female'\n",
    "}\n",
    "\n",
    "real_data['Gender'] = real_data['Gender'].replace(replacement_map, regex=True)"
   ]
  },
  {
   "cell_type": "code",
   "execution_count": 13,
   "metadata": {},
   "outputs": [
    {
     "data": {
      "text/plain": [
       "Race\n",
       "Unknown             10104\n",
       "Caucasian            4942\n",
       "African American      649\n",
       "Asian                 490\n",
       "Hispanic              312\n",
       "Other                 121\n",
       "Multiracial           117\n",
       "Indigenous             14\n",
       "Pacific Islander        3\n",
       "Name: count, dtype: int64"
      ]
     },
     "execution_count": 13,
     "metadata": {},
     "output_type": "execute_result"
    }
   ],
   "source": [
    "real_data['Race'].value_counts()"
   ]
  },
  {
   "cell_type": "code",
   "execution_count": 14,
   "metadata": {},
   "outputs": [
    {
     "data": {
      "text/plain": [
       "Gender\n",
       "Unknown    7120\n",
       "Other      4381\n",
       "Male       3314\n",
       "Female     1937\n",
       "Name: count, dtype: int64"
      ]
     },
     "execution_count": 14,
     "metadata": {},
     "output_type": "execute_result"
    }
   ],
   "source": [
    "real_data['Gender'].value_counts()"
   ]
  },
  {
   "cell_type": "code",
   "execution_count": 15,
   "metadata": {},
   "outputs": [],
   "source": [
    "column_names = [\n",
    "    \"Gender\",\n",
    "    \"Race\",\n",
    "    'BMK_S01_Strategic',\n",
    "    'BMK_S02_Quick',\n",
    "    'BMK_S03_Decisive',\n",
    "    'BMK_S04_Change',\n",
    "    'BMK_S05_Leading',\n",
    "    'BMK_S06_Confront',\n",
    "    'BMK_S07_Participative',\n",
    "    'BMK_S08_Build',\n",
    "    'BMK_S09_Compassion',\n",
    "    'BMK_S10_Putting',\n",
    "    'BMK_S11_Respect',\n",
    "    'BMK_D01_Interper',\n",
    "    'BMK_D02_DiffBuild',\n",
    "    'BMK_D03_DiffChange',\n",
    "    'BMK_D04_Failure',\n",
    "    'BMK_D05_Narrow',\n",
    "    'BMK_S01_Strategic_boss',\n",
    "    'BMK_S01_Strategic_direct_report',\n",
    "    'BMK_S01_Strategic_peer',\n",
    "    'BMK_S02_Quick_boss',\n",
    "    'BMK_S02_Quick_direct_report',\n",
    "    'BMK_S02_Quick_peer',\n",
    "    'BMK_S03_Decisive_boss',\n",
    "    'BMK_S03_Decisive_direct_report',\n",
    "    'BMK_S03_Decisive_peer',\n",
    "    'BMK_S04_Change_boss',\n",
    "    'BMK_S04_Change_direct_report',\n",
    "    'BMK_S04_Change_peer',\n",
    "    'BMK_S05_Leading_boss',\n",
    "    'BMK_S05_Leading_direct_report',\n",
    "    'BMK_S05_Leading_peer',\n",
    "    'BMK_S06_Confront_boss',\n",
    "    'BMK_S06_Confront_direct_report',\n",
    "    'BMK_S06_Confront_peer',\n",
    "    'BMK_S07_Participative_boss',\n",
    "    'BMK_S07_Participative_direct_report',\n",
    "    'BMK_S07_Participative_peer',\n",
    "    'BMK_S08_Build_boss',\n",
    "    'BMK_S08_Build_direct_report',\n",
    "    'BMK_S08_Build_peer',\n",
    "    'BMK_S09_Compassion_boss',\n",
    "    'BMK_S09_Compassion_direct_report',\n",
    "    'BMK_S09_Compassion_peer',\n",
    "    'BMK_S10_Putting_boss',\n",
    "    'BMK_S10_Putting_direct_report',\n",
    "    'BMK_S10_Putting_peer',\n",
    "    'BMK_S11_Respect_boss',\n",
    "    'BMK_S11_Respect_direct_report',\n",
    "    'BMK_S11_Respect_peer',\n",
    "    'BMK_D01_Interper_boss',\n",
    "    'BMK_D01_Interper_direct_report',\n",
    "    'BMK_D01_Interper_peer',\n",
    "    'BMK_D02_DiffBuild_boss',\n",
    "    'BMK_D02_DiffBuild_direct_report',\n",
    "    'BMK_D02_DiffBuild_peer',\n",
    "    'BMK_D03_DiffChange_boss',\n",
    "    'BMK_D03_DiffChange_direct_report',\n",
    "    'BMK_D03_DiffChange_peer',\n",
    "    'BMK_D04_Failure_boss',\n",
    "    'BMK_D04_Failure_direct_report',\n",
    "    'BMK_D04_Failure_peer',\n",
    "    'BMK_D05_Narrow_boss',\n",
    "    'BMK_D05_Narrow_direct_report',\n",
    "    'BMK_D05_Narrow_peer'\n",
    "]"
   ]
  },
  {
   "cell_type": "code",
   "execution_count": 16,
   "metadata": {},
   "outputs": [
    {
     "data": {
      "text/plain": [
       "68"
      ]
     },
     "execution_count": 16,
     "metadata": {},
     "output_type": "execute_result"
    }
   ],
   "source": [
    "len(real_data.columns)"
   ]
  },
  {
   "cell_type": "code",
   "execution_count": 17,
   "metadata": {},
   "outputs": [],
   "source": [
    "from src.core import SynthLeader"
   ]
  },
  {
   "cell_type": "code",
   "execution_count": 18,
   "metadata": {},
   "outputs": [
    {
     "name": "stdout",
     "output_type": "stream",
     "text": [
      "GPU: True\n"
     ]
    }
   ],
   "source": [
    "synth = SynthLeader(df=real_data, name=\"BMK_2018\")"
   ]
  },
  {
   "cell_type": "code",
   "execution_count": 19,
   "metadata": {},
   "outputs": [],
   "source": [
    "# synth.metadata"
   ]
  },
  {
   "cell_type": "markdown",
   "metadata": {},
   "source": [
    "## Real Dataset"
   ]
  },
  {
   "cell_type": "code",
   "execution_count": 20,
   "metadata": {},
   "outputs": [
    {
     "name": "stdout",
     "output_type": "stream",
     "text": [
      "results/demo/real_data_correlation.html uploaded\n"
     ]
    }
   ],
   "source": [
    "real_corr = synth.generate_corr_matrix(df=real_data)\n",
    "fig = synth.style_correlation_matrix(real_corr)\n",
    "data_processor.save_data(\n",
    "    fig.to_html(), name=f\"{corr_name}.html\", folder=results_folder)"
   ]
  },
  {
   "cell_type": "code",
   "execution_count": 21,
   "metadata": {},
   "outputs": [
    {
     "name": "stdout",
     "output_type": "stream",
     "text": [
      "Stored 'real_data' (DataFrame)\n",
      "Stored 'real_corr' (DataFrame)\n",
      "Stored 'column_names' (list)\n",
      "Stored 'synth' (SynthLeader)\n",
      "Stored 'data_processor' (DataProcessor)\n",
      "Stored 'results_folder' (str)\n"
     ]
    }
   ],
   "source": [
    "%store real_data\n",
    "%store real_corr\n",
    "%store column_names\n",
    "%store synth\n",
    "%store data_processor\n",
    "%store results_folder"
   ]
  },
  {
   "cell_type": "markdown",
   "metadata": {},
   "source": [
    "## Output"
   ]
  },
  {
   "cell_type": "code",
   "execution_count": 22,
   "metadata": {},
   "outputs": [
    {
     "name": "stdout",
     "output_type": "stream",
     "text": [
      "results/demo/real_data_conf_matrix.csv uploaded\n"
     ]
    }
   ],
   "source": [
    "import pandas as pd\n",
    "xtab = pd.crosstab(real_data['Race'], real_data['Gender'])\n",
    "data_processor.save_data(xtab.to_csv(index=True),\n",
    "                         name=f'{conf_matrix}.csv', folder=results_folder)"
   ]
  },
  {
   "cell_type": "code",
   "execution_count": 23,
   "metadata": {},
   "outputs": [
    {
     "name": "stdout",
     "output_type": "stream",
     "text": [
      "results/demo/real_data_correlation.csv uploaded\n"
     ]
    }
   ],
   "source": [
    "data_processor.save_data(real_corr.to_csv(index=False),\n",
    "                         name=f'{corr_name}.csv', folder=results_folder)"
   ]
  },
  {
   "cell_type": "code",
   "execution_count": null,
   "metadata": {},
   "outputs": [],
   "source": []
  }
 ],
 "metadata": {
  "kernel_info": {
   "name": "python3"
  },
  "kernelspec": {
   "display_name": "Synthetic Data",
   "language": "python",
   "name": "vsynth"
  },
  "language_info": {
   "codemirror_mode": {
    "name": "ipython",
    "version": 3
   },
   "file_extension": ".py",
   "mimetype": "text/x-python",
   "name": "python",
   "nbconvert_exporter": "python",
   "pygments_lexer": "ipython3",
   "version": "3.11.4"
  },
  "microsoft": {
   "ms_spell_check": {
    "ms_spell_check_language": "en"
   }
  },
  "nteract": {
   "version": "nteract-front-end@1.0.0"
  }
 },
 "nbformat": 4,
 "nbformat_minor": 4
}
