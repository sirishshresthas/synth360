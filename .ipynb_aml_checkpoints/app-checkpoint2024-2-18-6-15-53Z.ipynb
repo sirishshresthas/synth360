{
 "cells": [
  {
   "cell_type": "code",
   "execution_count": 1,
   "metadata": {},
   "outputs": [],
   "source": [
    "from src.core import DataProcessor"
   ]
  },
  {
   "cell_type": "code",
   "execution_count": 2,
   "metadata": {},
   "outputs": [
    {
     "data": {
      "text/plain": [
       "<class 'str'> BMK_2018.csv"
      ]
     },
     "execution_count": 2,
     "metadata": {},
     "output_type": "execute_result"
    }
   ],
   "source": [
    "data_processor = DataProcessor(data=\"BMK_2018.csv\")\n",
    "data_processor"
   ]
  },
  {
   "cell_type": "code",
   "execution_count": 3,
   "metadata": {},
   "outputs": [],
   "source": [
    "df = data_processor.get_data()"
   ]
  },
  {
   "cell_type": "code",
   "execution_count": 4,
   "metadata": {},
   "outputs": [
    {
     "data": {
      "text/plain": [
       "(227959, 215)"
      ]
     },
     "execution_count": 4,
     "metadata": {},
     "output_type": "execute_result"
    }
   ],
   "source": [
    "data_processor.df.shape"
   ]
  },
  {
   "cell_type": "code",
   "execution_count": 5,
   "metadata": {},
   "outputs": [
    {
     "name": "stdout",
     "output_type": "stream",
     "text": [
      "RaterType\n",
      "ESI_Key\n"
     ]
    }
   ],
   "source": [
    "print(data_processor.rater_col_name)\n",
    "print(data_processor.id_key)"
   ]
  },
  {
   "cell_type": "code",
   "execution_count": 6,
   "metadata": {},
   "outputs": [
    {
     "data": {
      "text/plain": [
       "RaterType\n",
       "boss             1.0\n",
       "direct report    3.0\n",
       "other            1.0\n",
       "peer             4.0\n",
       "superior         1.0\n",
       "dtype: float64"
      ]
     },
     "execution_count": 6,
     "metadata": {},
     "output_type": "execute_result"
    }
   ],
   "source": [
    "data_processor.median_rater_counts()"
   ]
  },
  {
   "cell_type": "code",
   "execution_count": 7,
   "metadata": {},
   "outputs": [
    {
     "data": {
      "text/plain": [
       "(166814, 215)"
      ]
     },
     "execution_count": 7,
     "metadata": {},
     "output_type": "execute_result"
    }
   ],
   "source": [
    "data_processor.filter_data_with_all_raters()\n",
    "data_processor.df.shape"
   ]
  },
  {
   "cell_type": "code",
   "execution_count": 8,
   "metadata": {},
   "outputs": [
    {
     "data": {
      "text/plain": [
       "array(['boss', 'direct report', 'peer', 'self'], dtype=object)"
      ]
     },
     "execution_count": 8,
     "metadata": {},
     "output_type": "execute_result"
    }
   ],
   "source": [
    "data_processor.df.RaterType.unique()"
   ]
  },
  {
   "cell_type": "code",
   "execution_count": 9,
   "metadata": {},
   "outputs": [
    {
     "data": {
      "text/plain": [
       "[]"
      ]
     },
     "execution_count": 9,
     "metadata": {},
     "output_type": "execute_result"
    }
   ],
   "source": [
    "data_processor.items_cols"
   ]
  },
  {
   "cell_type": "code",
   "execution_count": 10,
   "metadata": {},
   "outputs": [],
   "source": [
    "demo_cols = [\n",
    "    \"Age\",\n",
    "    \"Race\",\n",
    "    \"OrganizationSector\",\n",
    "    \"OrganizationType\",\n",
    "    \"RaterType\",\n",
    "    \"OrganizationLevel\",\n",
    "    \"Gender\"\n",
    "]\n",
    "\n",
    "# all the items cols\n",
    "items_cols = [\"ESI_Key\", \"RaterType\", \"BMK_S01_Strategic\", \"BMK_S02_Quick\", \"BMK_S03_Decisive\", \"BMK_S04_Change\", \"BMK_S05_Leading\", \"BMK_S06_Confront\", \"BMK_S07_Participative\",\n",
    "              \"BMK_S08_Build\", \"BMK_S09_Compassion\", \"BMK_S10_Putting\", \"BMK_S11_Respect\", \"BMK_D01_Interper\", \"BMK_D02_DiffBuild\", \"BMK_D03_DiffChange\", \"BMK_D04_Failure\", \"BMK_D05_Narrow\"]\n",
    "\n",
    "\n",
    "data_processor.items_cols = items_cols\n",
    "data_processor.demo_cols = demo_cols"
   ]
  },
  {
   "cell_type": "code",
   "execution_count": 11,
   "metadata": {},
   "outputs": [],
   "source": [
    "real_data = data_processor.pivot_rater_data(skip=2)"
   ]
  },
  {
   "cell_type": "code",
   "execution_count": 12,
   "metadata": {},
   "outputs": [],
   "source": [
    "column_names = [\n",
    "    'BMK_S01_Strategic',\n",
    "    'BMK_S02_Quick',\n",
    "    'BMK_S03_Decisive',\n",
    "    'BMK_S04_Change',\n",
    "    'BMK_S05_Leading',\n",
    "    'BMK_S06_Confront',\n",
    "    'BMK_S07_Participative',\n",
    "    'BMK_S08_Build',\n",
    "    'BMK_S09_Compassion',\n",
    "    'BMK_S10_Putting',\n",
    "    'BMK_S11_Respect',\n",
    "    'BMK_D01_Interper',\n",
    "    'BMK_D02_DiffBuild',\n",
    "    'BMK_D03_DiffChange',\n",
    "    'BMK_D04_Failure',\n",
    "    'BMK_D05_Narrow',\n",
    "    'BMK_S01_Strategic_boss',\n",
    "    'BMK_S01_Strategic_direct_report',\n",
    "    'BMK_S01_Strategic_peer',\n",
    "    'BMK_S02_Quick_boss',\n",
    "    'BMK_S02_Quick_direct_report',\n",
    "    'BMK_S02_Quick_peer',\n",
    "    'BMK_S03_Decisive_boss',\n",
    "    'BMK_S03_Decisive_direct_report',\n",
    "    'BMK_S03_Decisive_peer',\n",
    "    'BMK_S04_Change_boss',\n",
    "    'BMK_S04_Change_direct_report',\n",
    "    'BMK_S04_Change_peer',\n",
    "    'BMK_S05_Leading_boss',\n",
    "    'BMK_S05_Leading_direct_report',\n",
    "    'BMK_S05_Leading_peer',\n",
    "    'BMK_S06_Confront_boss',\n",
    "    'BMK_S06_Confront_direct_report',\n",
    "    'BMK_S06_Confront_peer',\n",
    "    'BMK_S07_Participative_boss',\n",
    "    'BMK_S07_Participative_direct_report',\n",
    "    'BMK_S07_Participative_peer',\n",
    "    'BMK_S08_Build_boss',\n",
    "    'BMK_S08_Build_direct_report',\n",
    "    'BMK_S08_Build_peer',\n",
    "    'BMK_S09_Compassion_boss',\n",
    "    'BMK_S09_Compassion_direct_report',\n",
    "    'BMK_S09_Compassion_peer',\n",
    "    'BMK_S10_Putting_boss',\n",
    "    'BMK_S10_Putting_direct_report',\n",
    "    'BMK_S10_Putting_peer',\n",
    "    'BMK_S11_Respect_boss',\n",
    "    'BMK_S11_Respect_direct_report',\n",
    "    'BMK_S11_Respect_peer',\n",
    "    'BMK_D01_Interper_boss',\n",
    "    'BMK_D01_Interper_direct_report',\n",
    "    'BMK_D01_Interper_peer',\n",
    "    'BMK_D02_DiffBuild_boss',\n",
    "    'BMK_D02_DiffBuild_direct_report',\n",
    "    'BMK_D02_DiffBuild_peer',\n",
    "    'BMK_D03_DiffChange_boss',\n",
    "    'BMK_D03_DiffChange_direct_report',\n",
    "    'BMK_D03_DiffChange_peer',\n",
    "    'BMK_D04_Failure_boss',\n",
    "    'BMK_D04_Failure_direct_report',\n",
    "    'BMK_D04_Failure_peer',\n",
    "    'BMK_D05_Narrow_boss',\n",
    "    'BMK_D05_Narrow_direct_report',\n",
    "    'BMK_D05_Narrow_peer'\n",
    "]"
   ]
  },
  {
   "cell_type": "code",
   "execution_count": 13,
   "metadata": {},
   "outputs": [],
   "source": [
    "from src.core import SynthLeader"
   ]
  },
  {
   "cell_type": "code",
   "execution_count": 14,
   "metadata": {},
   "outputs": [
    {
     "name": "stdout",
     "output_type": "stream",
     "text": [
      "Cuda: True\n"
     ]
    }
   ],
   "source": [
    "synth = SynthLeader(df=real_data, name=\"BMK_2018\")"
   ]
  },
  {
   "cell_type": "code",
   "execution_count": 15,
   "metadata": {},
   "outputs": [],
   "source": [
    "# synth.metadata"
   ]
  },
  {
   "cell_type": "markdown",
   "metadata": {},
   "source": [
    "## Real Dataset"
   ]
  },
  {
   "cell_type": "code",
   "execution_count": 16,
   "metadata": {},
   "outputs": [
    {
     "name": "stdout",
     "output_type": "stream",
     "text": [
      "real_corr.html uploaded\n"
     ]
    }
   ],
   "source": [
    "real_corr = synth.generate_corr_matrix(df=real_data)\n",
    "fig = synth.style_correlation_matrix(real_corr)\n",
    "data_processor.save_data(fig.to_html(), name=\"real_corr.html\")"
   ]
  },
  {
   "cell_type": "code",
   "execution_count": 17,
   "metadata": {},
   "outputs": [
    {
     "name": "stdout",
     "output_type": "stream",
     "text": [
      "Stored 'real_data' (DataFrame)\n",
      "Stored 'real_corr' (DataFrame)\n",
      "Stored 'column_names' (list)\n",
      "Stored 'synth' (SynthLeader)\n",
      "Stored 'data_processor' (DataProcessor)\n"
     ]
    }
   ],
   "source": [
    "%store real_data\n",
    "%store real_corr\n",
    "%store column_names\n",
    "%store synth\n",
    "%store data_processor"
   ]
  },
  {
   "cell_type": "markdown",
   "metadata": {},
   "source": [
    "## Output"
   ]
  },
  {
   "cell_type": "code",
   "execution_count": 18,
   "metadata": {},
   "outputs": [
    {
     "name": "stdout",
     "output_type": "stream",
     "text": [
      "real_corr.csv uploaded\n"
     ]
    }
   ],
   "source": [
    "data_processor.save_data(real_corr.to_csv(index=False), name='real_corr.csv')"
   ]
  }
 ],
 "metadata": {
  "kernelspec": {
   "display_name": "azureml_py310_sdkv2",
   "language": "python",
   "name": "python3"
  },
  "language_info": {
   "codemirror_mode": {
    "name": "ipython",
    "version": 3
   },
   "file_extension": ".py",
   "mimetype": "text/x-python",
   "name": "python",
   "nbconvert_exporter": "python",
   "pygments_lexer": "ipython3",
   "version": "3.10.10"
  }
 },
 "nbformat": 4,
 "nbformat_minor": 4
}
