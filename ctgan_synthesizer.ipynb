{
 "cells": [
  {
   "cell_type": "code",
   "execution_count": 1,
   "id": "bc593452-b7e7-425f-9323-3f15695a12ed",
   "metadata": {},
   "outputs": [],
   "source": [
    "%store -r real_data\n",
    "%store -r real_corr\n",
    "%store -r column_names\n",
    "%store -r synth\n",
    "%store -r data_processor"
   ]
  },
  {
   "cell_type": "code",
   "execution_count": 2,
   "id": "cd6707dc-cbe3-46c2-81b1-fbc3b897a88c",
   "metadata": {},
   "outputs": [],
   "source": [
    "models = ['bmk2018_ctgan_hp_bt100.pkl', 'bmk2018_ctgan_hp_bt256.pkl', 'bmk2018_ctgan.pkl',\n",
    "          'bmk2018_ctgan_hp_bs128_ep1000.pkl', 'bmk2018_ctgan_hp_bs128_ep3000.pkl']\n",
    "params = [\n",
    "    {\"batch_size\":  128, \"epochs\": 500}, {\"batch_size\": 256, \"epochs\": 500}, {\"batch_size\": 500,\n",
    "                                                                              \"epochs\": 500}, {\"batch_size\": 128, \"epochs\": 1000}, {\"batch_size\": 128, \"epochs\": 3000}\n",
    "]"
   ]
  },
  {
   "cell_type": "code",
   "execution_count": 3,
   "id": "010b0016",
   "metadata": {},
   "outputs": [
    {
     "name": "stdout",
     "output_type": "stream",
     "text": [
      "Loading existing model\n",
      "Generating report ...\n",
      "(1/2) Evaluating Data Validity: : 100%|██████████| 66/66 [00:00<00:00, 1470.15it/s]\n",
      "(2/2) Evaluating Data Structure: : 100%|██████████| 1/1 [00:00<00:00, 657.31it/s]\n",
      "\n",
      "Overall Score: 100.0%\n",
      "\n",
      "Properties:\n",
      "- Data Validity: 100.0%\n",
      "- Data Structure: 100.0%\n",
      "Generating report ...\n",
      "(1/2) Evaluating Column Shapes: : 100%|██████████| 66/66 [00:00<00:00, 97.55it/s] \n",
      "(2/2) Evaluating Column Pair Trends: : 100%|██████████| 2145/2145 [00:20<00:00, 104.97it/s]\n",
      "\n",
      "Overall Score: 92.36%\n",
      "\n",
      "Properties:\n",
      "- Column Shapes: 87.83%\n",
      "- Column Pair Trends: 96.9%\n",
      "Loading existing model\n",
      "Generating report ...\n",
      "(1/2) Evaluating Data Validity: : 100%|██████████| 66/66 [00:00<00:00, 1497.26it/s]\n",
      "(2/2) Evaluating Data Structure: : 100%|██████████| 1/1 [00:00<00:00, 913.99it/s]\n",
      "\n",
      "Overall Score: 100.0%\n",
      "\n",
      "Properties:\n",
      "- Data Validity: 100.0%\n",
      "- Data Structure: 100.0%\n",
      "Generating report ...\n",
      "(1/2) Evaluating Column Shapes: : 100%|██████████| 66/66 [00:00<00:00, 103.51it/s]\n",
      "(2/2) Evaluating Column Pair Trends: : 100%|██████████| 2145/2145 [00:14<00:00, 144.11it/s]\n",
      "\n",
      "Overall Score: 91.67%\n",
      "\n",
      "Properties:\n",
      "- Column Shapes: 87.38%\n",
      "- Column Pair Trends: 95.96%\n",
      "Loading existing model\n",
      "Generating report ...\n",
      "(1/2) Evaluating Data Validity: : 100%|██████████| 66/66 [00:00<00:00, 1481.48it/s]\n",
      "(2/2) Evaluating Data Structure: : 100%|██████████| 1/1 [00:00<00:00, 910.62it/s]\n",
      "\n",
      "Overall Score: 100.0%\n",
      "\n",
      "Properties:\n",
      "- Data Validity: 100.0%\n",
      "- Data Structure: 100.0%\n",
      "Generating report ...\n",
      "(1/2) Evaluating Column Shapes: : 100%|██████████| 66/66 [00:00<00:00, 101.91it/s]\n",
      "(2/2) Evaluating Column Pair Trends: : 100%|██████████| 2145/2145 [00:16<00:00, 128.58it/s]\n",
      "\n",
      "Overall Score: 91.65%\n",
      "\n",
      "Properties:\n",
      "- Column Shapes: 87.56%\n",
      "- Column Pair Trends: 95.74%\n",
      "Loading existing model\n",
      "Generating report ...\n",
      "(1/2) Evaluating Data Validity: : 100%|██████████| 66/66 [00:00<00:00, 1493.26it/s]\n",
      "(2/2) Evaluating Data Structure: : 100%|██████████| 1/1 [00:00<00:00, 851.46it/s]\n",
      "\n",
      "Overall Score: 100.0%\n",
      "\n",
      "Properties:\n",
      "- Data Validity: 100.0%\n",
      "- Data Structure: 100.0%\n",
      "Generating report ...\n",
      "(1/2) Evaluating Column Shapes: : 100%|██████████| 66/66 [00:00<00:00, 97.58it/s] \n",
      "(2/2) Evaluating Column Pair Trends: : 100%|██████████| 2145/2145 [00:16<00:00, 133.84it/s]\n",
      "\n",
      "Overall Score: 92.74%\n",
      "\n",
      "Properties:\n",
      "- Column Shapes: 88.79%\n",
      "- Column Pair Trends: 96.7%\n",
      "Loading existing model\n",
      "Generating report ...\n",
      "(1/2) Evaluating Data Validity: : 100%|██████████| 66/66 [00:00<00:00, 1498.08it/s]\n",
      "(2/2) Evaluating Data Structure: : 100%|██████████| 1/1 [00:00<00:00, 1014.59it/s]\n",
      "\n",
      "Overall Score: 100.0%\n",
      "\n",
      "Properties:\n",
      "- Data Validity: 100.0%\n",
      "- Data Structure: 100.0%\n",
      "Generating report ...\n",
      "(1/2) Evaluating Column Shapes: : 100%|██████████| 66/66 [00:00<00:00, 92.66it/s] \n",
      "(2/2) Evaluating Column Pair Trends: : 100%|██████████| 2145/2145 [00:18<00:00, 113.27it/s]\n",
      "\n",
      "Overall Score: 93.72%\n",
      "\n",
      "Properties:\n",
      "- Column Shapes: 90.18%\n",
      "- Column Pair Trends: 97.27%\n"
     ]
    }
   ],
   "source": [
    "for model, param in zip(models, params):\n",
    "    ctgan_synthesizer = synth.train_ctgan_synthesizer(\n",
    "        model_name=model, **param)\n",
    "\n",
    "    ctgan_synth_data = synth.generate_synthetic_sample(\n",
    "        ctgan_synthesizer, 15000)\n",
    "\n",
    "    synth.run_diagnostic(ctgan_synth_data)\n",
    "    synth.run_evaluation(ctgan_synth_data)"
   ]
  },
  {
   "cell_type": "markdown",
   "id": "79ba812d-9fc4-4147-b182-34812a404363",
   "metadata": {},
   "source": [
    "## Final model"
   ]
  },
  {
   "cell_type": "code",
   "execution_count": 4,
   "id": "696d22b1-3eb9-4a91-8b09-2d1663f31113",
   "metadata": {},
   "outputs": [
    {
     "name": "stdout",
     "output_type": "stream",
     "text": [
      "Loading existing model\n"
     ]
    }
   ],
   "source": [
    "# best modelbased on evaluation is epoch 3000 with batch size 128\n",
    "ctgan_synthesizer = synth.train_ctgan_synthesizer(\n",
    "    model_name='bmk2018_ctgan_hp_bs128_ep3000.pkl')"
   ]
  },
  {
   "cell_type": "code",
   "execution_count": 5,
   "id": "14d1f624-4749-49bb-8bf1-94bddc19071f",
   "metadata": {},
   "outputs": [],
   "source": [
    "ctgan_synth_data = synth.generate_synthetic_sample(ctgan_synthesizer, 15000)"
   ]
  },
  {
   "cell_type": "code",
   "execution_count": 6,
   "id": "d502028c-0aba-490b-a4df-f5b6819008fc",
   "metadata": {},
   "outputs": [
    {
     "name": "stdout",
     "output_type": "stream",
     "text": [
      "ctgan_corr.html uploaded\n"
     ]
    }
   ],
   "source": [
    "ctgan_corr = synth.generate_corr_matrix(df=ctgan_synth_data)\n",
    "fig = synth.style_correlation_matrix(ctgan_corr)\n",
    "data_processor.save_data(fig.to_html(), name='ctgan_corr.html')"
   ]
  },
  {
   "cell_type": "code",
   "execution_count": 7,
   "id": "83a37be7-e419-4397-b396-8b1aa8a7fac1",
   "metadata": {},
   "outputs": [
    {
     "name": "stdout",
     "output_type": "stream",
     "text": [
      "ctgan_corr_diff.html uploaded\n"
     ]
    }
   ],
   "source": [
    "ctgan_corr_diff = synth.generate_corr_matrix(real_corr - ctgan_corr)\n",
    "fig = synth.style_correlation_matrix(ctgan_corr_diff)\n",
    "data_processor.save_data(fig.to_html(), name='ctgan_corr_diff.html')"
   ]
  },
  {
   "cell_type": "code",
   "execution_count": 8,
   "id": "024c3c42-8160-4c34-af3e-24662fbbf2f0",
   "metadata": {},
   "outputs": [
    {
     "name": "stdout",
     "output_type": "stream",
     "text": [
      "ctgan_figures.png uploaded\n"
     ]
    }
   ],
   "source": [
    "plot = synth.visualize_data(synthetic_data=ctgan_synth_data,\n",
    "                            column_names=column_names, fig_name=\"ctgan_figures.png\")\n",
    "\n",
    "with open('./data/figures/ctgan_figures.png', 'rb') as p:\n",
    "    data_processor.save_data(p, name='ctgan_figures.png')"
   ]
  },
  {
   "cell_type": "code",
   "execution_count": 9,
   "id": "6743e1ab-d0c1-4a4b-a035-bbcb7b5806bc",
   "metadata": {},
   "outputs": [],
   "source": [
    "# synth.run_diagnostic(ctgan_synth_data)\n",
    "# synth.run_evaluation(ctgan_synth_data)"
   ]
  },
  {
   "cell_type": "code",
   "execution_count": 10,
   "id": "1e46e65a",
   "metadata": {},
   "outputs": [],
   "source": [
    "columns = [c for c in synth.df.columns if c not in ['ESI_Key', 'RaterType']]\n",
    "\n",
    "stats = data_processor.compare_datasets(real_data=real_data,\n",
    "                                        synthetic_data=ctgan_synth_data, columns=columns)"
   ]
  },
  {
   "cell_type": "markdown",
   "id": "75a0b5d8-2588-400d-95d1-3751b125cac4",
   "metadata": {},
   "source": [
    "# Output"
   ]
  },
  {
   "cell_type": "code",
   "execution_count": 11,
   "id": "b87650a9-54a0-4943-a6b4-01533c66d8af",
   "metadata": {},
   "outputs": [
    {
     "name": "stdout",
     "output_type": "stream",
     "text": [
      "ctgan_synth_data uploaded\n",
      "ctgan_corr uploaded\n",
      "ctgan_corr_diff uploaded\n",
      "ctgan_stats uploaded\n"
     ]
    }
   ],
   "source": [
    "data_processor.save_data(df=ctgan_synth_data.to_csv(\n",
    "    index=False), name='ctgan_synth_data')\n",
    "data_processor.save_data(df=ctgan_corr.to_csv(index=False), name='ctgan_corr')\n",
    "data_processor.save_data(df=ctgan_corr_diff.to_csv(\n",
    "    index=False), name='ctgan_corr_diff')\n",
    "data_processor.save_data(df=stats.to_csv(index=False), name='ctgan_stats')"
   ]
  },
  {
   "cell_type": "code",
   "execution_count": 12,
   "id": "b52d4eda-bd14-478b-af90-0a46daa3cbfb",
   "metadata": {},
   "outputs": [
    {
     "name": "stdout",
     "output_type": "stream",
     "text": [
      "ctgan_cumsum_figure.png uploaded\n"
     ]
    }
   ],
   "source": [
    "figure_name = \"ctgan_cumsum_figure.png\"\n",
    "\n",
    "plot = synth.visualize_cumsum(synthetic_data=ctgan_synth_data,\n",
    "                              column_names=column_names, fig_name=figure_name)\n",
    "\n",
    "with open(f'./data/figures/{figure_name}', 'rb') as p:\n",
    "    data_processor.save_data(p, name=figure_name)"
   ]
  },
  {
   "cell_type": "code",
   "execution_count": null,
   "id": "d99d0706-3290-4066-8690-13273f84b07e",
   "metadata": {},
   "outputs": [],
   "source": []
  }
 ],
 "metadata": {
  "kernelspec": {
   "display_name": "Synthetic Data",
   "language": "python",
   "name": "vsynth"
  },
  "language_info": {
   "codemirror_mode": {
    "name": "ipython",
    "version": 3
   },
   "file_extension": ".py",
   "mimetype": "text/x-python",
   "name": "python",
   "nbconvert_exporter": "python",
   "pygments_lexer": "ipython3",
   "version": "3.11.4"
  }
 },
 "nbformat": 4,
 "nbformat_minor": 5
}
