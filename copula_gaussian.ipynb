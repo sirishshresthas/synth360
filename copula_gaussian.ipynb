{
 "cells": [
  {
   "cell_type": "markdown",
   "id": "1b71fc26-b3d3-4a72-899b-119f05a33266",
   "metadata": {},
   "source": [
    "## Train Copula Gaussian Model"
   ]
  },
  {
   "cell_type": "code",
   "execution_count": 1,
   "id": "4ae448fd-72e5-404e-9e5f-eccd4a8c0a87",
   "metadata": {},
   "outputs": [],
   "source": [
    "%store -r real_data\n",
    "%store -r real_corr\n",
    "%store -r column_names\n",
    "%store -r synth\n",
    "%store -r data_processor\n",
    "%store -r results_folder"
   ]
  },
  {
   "cell_type": "code",
   "execution_count": 2,
   "id": "bb1c8f14-945d-4ac8-85d8-84e3a87a6462",
   "metadata": {},
   "outputs": [],
   "source": [
    "name = \"bmk2018_copula_demo.pkl\"\n",
    "corr_name = \"copula_corr\"\n",
    "fig_name = \"copula_figure.png\"\n",
    "synth_name = \"copula_synth_data\"\n",
    "synth_stats = \"copula_synth_stats.csv\"\n",
    "figure_name = 'copula_cumsum_figure.png'\n",
    "results_folder = results_folder + '/copula'"
   ]
  },
  {
   "cell_type": "code",
   "execution_count": 3,
   "id": "a9c23471-3021-475b-980d-04cc3a9a9c86",
   "metadata": {},
   "outputs": [
    {
     "data": {
      "text/plain": [
       "'results/demo/copula'"
      ]
     },
     "execution_count": 3,
     "metadata": {},
     "output_type": "execute_result"
    }
   ],
   "source": [
    "results_folder"
   ]
  },
  {
   "cell_type": "code",
   "execution_count": 4,
   "id": "ca429226-cf27-41cc-b747-ac4366641cf8",
   "metadata": {},
   "outputs": [
    {
     "name": "stdout",
     "output_type": "stream",
     "text": [
      "Retrieving existing model\n"
     ]
    }
   ],
   "source": [
    "copula_synthesizer = synth.train_copula_synthesizer(\n",
    "    model_name=name)"
   ]
  },
  {
   "cell_type": "code",
   "execution_count": 5,
   "id": "0615a709-8d38-433b-85e8-b783c40f0e18",
   "metadata": {},
   "outputs": [],
   "source": [
    "copula_synth_data = synth.generate_synthetic_sample(copula_synthesizer, 15000)"
   ]
  },
  {
   "cell_type": "code",
   "execution_count": 6,
   "id": "f4d7d434-111d-4806-8a4d-a752c211be84",
   "metadata": {},
   "outputs": [
    {
     "name": "stdout",
     "output_type": "stream",
     "text": [
      "results/demo/copula/copula_corr.html uploaded\n"
     ]
    }
   ],
   "source": [
    "copula_corr = synth.generate_corr_matrix(df=copula_synth_data)\n",
    "fig = synth.style_correlation_matrix(copula_corr)\n",
    "data_processor.save_data(\n",
    "    fig.to_html(), name=f\"{corr_name}.html\", folder=results_folder)"
   ]
  },
  {
   "cell_type": "code",
   "execution_count": 7,
   "id": "3cad2753-117f-4369-aca3-20dbf9fb144d",
   "metadata": {},
   "outputs": [
    {
     "name": "stdout",
     "output_type": "stream",
     "text": [
      "results/demo/copula/copula_corr_diff.html uploaded\n"
     ]
    }
   ],
   "source": [
    "copula_corr_diff = real_corr - copula_corr\n",
    "fig = synth.style_correlation_matrix(copula_corr_diff)\n",
    "data_processor.save_data(\n",
    "    fig.to_html(), name=f\"{corr_name}_diff.html\", folder=results_folder)"
   ]
  },
  {
   "cell_type": "code",
   "execution_count": 8,
   "id": "90b1b2c0-64c9-4414-aab1-e6688fd334eb",
   "metadata": {},
   "outputs": [],
   "source": [
    "# synth.metadata"
   ]
  },
  {
   "cell_type": "code",
   "execution_count": 9,
   "id": "f88b3b4b-a7ad-41be-bdb9-ee4d6e5dcbcf",
   "metadata": {},
   "outputs": [],
   "source": [
    "# print(synth.df.columns)\n",
    "# print(copula_synth_data.columns)\n",
    "# print(synth.metadata)"
   ]
  },
  {
   "cell_type": "code",
   "execution_count": 10,
   "id": "09df0dd2-f0b3-4e7f-801a-101b0ac072f4",
   "metadata": {},
   "outputs": [],
   "source": [
    "# synth.run_diagnostic(copula_synth_data)\n",
    "# synth.run_evaluation(copula_synth_data)"
   ]
  },
  {
   "cell_type": "code",
   "execution_count": 11,
   "id": "332fd928-dd1f-4779-b552-822ee389324a",
   "metadata": {},
   "outputs": [],
   "source": [
    "# plot = synth.visualize_data(synthetic_data=copula_synth_data,\n",
    "#                             data_name='copula', column_names=column_names, fig_name=fig_name)"
   ]
  },
  {
   "cell_type": "code",
   "execution_count": 12,
   "id": "b83345a0",
   "metadata": {},
   "outputs": [],
   "source": [
    "# with open(f'./data/figures/evaluations/copula/{fig_name}', 'rb') as p:\n",
    "#     data_processor.save_data(p, name=fig_name, folder=results_folder)"
   ]
  },
  {
   "cell_type": "code",
   "execution_count": 13,
   "id": "fcb7229a-a0e8-4ef1-abd7-c1ab015aa20f",
   "metadata": {},
   "outputs": [],
   "source": [
    "columns = [c for c in synth.df.columns if c not in [\n",
    "    'ESI_Key', 'RaterType', 'Gender', 'Race']]\n",
    "\n",
    "stats, rs, ss = data_processor.compare_datasets(real_data=real_data,\n",
    "                                        synthetic_data=copula_synth_data, columns=columns)"
   ]
  },
  {
   "cell_type": "code",
   "execution_count": 14,
   "id": "1a9a0496-0a78-4d5e-8578-6caab891b1b5",
   "metadata": {},
   "outputs": [],
   "source": [
    "gender_stats = data_processor.compare_demographics(real_data=real_data, \n",
    "                                                  synthetic_data=copula_synth_data, \n",
    "                                                  column = 'Gender', \n",
    "                                                  categories = ['Male', 'Female'])"
   ]
  },
  {
   "cell_type": "code",
   "execution_count": 17,
   "id": "03ffa3d6",
   "metadata": {},
   "outputs": [],
   "source": [
    "race_stats = data_processor.compare_demographics(real_data=real_data, \n",
    "                                                  synthetic_data=copula_synth_data, \n",
    "                                                  column = 'Race', \n",
    "                                                  categories = ['Caucasian', 'African American'])"
   ]
  },
  {
   "cell_type": "code",
   "execution_count": null,
   "id": "8739f288-ea99-44a6-a45e-721509a12bd8",
   "metadata": {},
   "outputs": [],
   "source": []
  },
  {
   "cell_type": "code",
   "execution_count": 17,
   "id": "06c91088",
   "metadata": {},
   "outputs": [],
   "source": [
    "plot_list = synth.visualize_evaluation(\n",
    "    synthetic_data=copula_synth_data, data_name='copula', demo_cols=data_processor.demo_cols)\n",
    "\n",
    "for plot in plot_list:\n",
    "    with open(plot, 'rb') as p:\n",
    "        plot_name = os.path.basename(plot)\n",
    "        data_processor.save_data(p, name=plot_name, folder=results_folder)"
   ]
  },
  {
   "cell_type": "code",
   "execution_count": 21,
   "id": "f2b78b85-9ac8-4e7d-ab0d-d5805f512acd",
   "metadata": {},
   "outputs": [
    {
     "name": "stdout",
     "output_type": "stream",
     "text": [
      "results/demo/copula/copula_synth_data.csv uploaded\n",
      "results/demo/copula/copula_corr uploaded\n",
      "results/demo/copula/copula_corr_diff uploaded\n",
      "results/demo/copula/copula_synth_stats.csv uploaded\n",
      "results/demo/copula/gender_stats.csv uploaded\n",
      "results/demo/copula/race_stats.csv uploaded\n"
     ]
    }
   ],
   "source": [
    "data_processor.save_data(df=copula_synth_data.to_csv(\n",
    "    index=True), name=f\"{synth_name}.csv\", folder=results_folder)\n",
    "data_processor.save_data(df=copula_corr.to_csv(\n",
    "    index=True), name=corr_name, folder=results_folder)\n",
    "data_processor.save_data(df=copula_corr_diff.to_csv(\n",
    "    index=True), name=f'{corr_name}_diff', folder=results_folder)\n",
    "data_processor.save_data(df=stats.to_csv(\n",
    "    index=True), name=synth_stats, folder=results_folder)\n",
    "data_processor.save_data(df=gender_stats.to_csv(\n",
    "    index=True), name=\"gender_stats.csv\", folder=results_folder)\n",
    "data_processor.save_data(df=race_stats.to_csv(\n",
    "    index=True), name=\"race_stats.csv\", folder=results_folder)"
   ]
  },
  {
   "cell_type": "code",
   "execution_count": null,
   "id": "5fd0f613-1bc8-4fff-ad74-43e0aaabfc22",
   "metadata": {},
   "outputs": [],
   "source": []
  }
 ],
 "metadata": {
  "kernelspec": {
   "display_name": "Synthetic Data",
   "language": "python",
   "name": "vsynth"
  },
  "language_info": {
   "codemirror_mode": {
    "name": "ipython",
    "version": 3
   },
   "file_extension": ".py",
   "mimetype": "text/x-python",
   "name": "python",
   "nbconvert_exporter": "python",
   "pygments_lexer": "ipython3",
   "version": "3.11.4"
  }
 },
 "nbformat": 4,
 "nbformat_minor": 5
}
