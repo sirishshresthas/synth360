{
 "cells": [
  {
   "cell_type": "markdown",
   "id": "1b71fc26-b3d3-4a72-899b-119f05a33266",
   "metadata": {},
   "source": [
    "## Train Copula Gaussian Model"
   ]
  },
  {
   "cell_type": "code",
   "execution_count": 24,
   "id": "4ae448fd-72e5-404e-9e5f-eccd4a8c0a87",
   "metadata": {},
   "outputs": [],
   "source": [
    "%store -r real_data\n",
    "%store -r real_corr\n",
    "%store -r column_names\n",
    "%store -r synth\n",
    "%store -r data_processor"
   ]
  },
  {
   "cell_type": "code",
   "execution_count": 25,
   "id": "bb1c8f14-945d-4ac8-85d8-84e3a87a6462",
   "metadata": {},
   "outputs": [
    {
     "name": "stdout",
     "output_type": "stream",
     "text": [
      "Loading existing model\n"
     ]
    }
   ],
   "source": [
    "copula_synthesizer = synth.train_copula_synthesizer(\n",
    "    model_name='bmk2018_copula.pkl')"
   ]
  },
  {
   "cell_type": "code",
   "execution_count": 26,
   "id": "0615a709-8d38-433b-85e8-b783c40f0e18",
   "metadata": {},
   "outputs": [],
   "source": [
    "copula_synth_data = synth.generate_synthetic_sample(copula_synthesizer, 15000)"
   ]
  },
  {
   "cell_type": "code",
   "execution_count": 27,
   "id": "f4d7d434-111d-4806-8a4d-a752c211be84",
   "metadata": {},
   "outputs": [
    {
     "name": "stdout",
     "output_type": "stream",
     "text": [
      "copula_corr.html uploaded\n"
     ]
    }
   ],
   "source": [
    "copula_corr = synth.generate_corr_matrix(df=copula_synth_data)\n",
    "fig = synth.style_correlation_matrix(copula_corr)\n",
    "data_processor.save_data(fig.to_html(), name=\"copula_corr.html\")"
   ]
  },
  {
   "cell_type": "code",
   "execution_count": 28,
   "id": "3cad2753-117f-4369-aca3-20dbf9fb144d",
   "metadata": {},
   "outputs": [
    {
     "name": "stdout",
     "output_type": "stream",
     "text": [
      "copula_corr_diff.html uploaded\n"
     ]
    }
   ],
   "source": [
    "copula_corr_diff = real_corr - copula_corr\n",
    "fig = synth.style_correlation_matrix(copula_corr_diff)\n",
    "data_processor.save_data(fig.to_html(), name=\"copula_corr_diff.html\")"
   ]
  },
  {
   "cell_type": "code",
   "execution_count": 29,
   "id": "09df0dd2-f0b3-4e7f-801a-101b0ac072f4",
   "metadata": {},
   "outputs": [],
   "source": [
    "# synth.run_diagnostic(copula_synth_data)\n",
    "# synth.run_evaluation(copula_synth_data)"
   ]
  },
  {
   "cell_type": "code",
   "execution_count": 30,
   "id": "332fd928-dd1f-4779-b552-822ee389324a",
   "metadata": {},
   "outputs": [],
   "source": [
    "plot = synth.visualize_data(synthetic_data=copula_synth_data,\n",
    "                            column_names=column_names, fig_name=\"copula_figure.png\")"
   ]
  },
  {
   "cell_type": "code",
   "execution_count": 31,
   "id": "b83345a0",
   "metadata": {},
   "outputs": [
    {
     "name": "stdout",
     "output_type": "stream",
     "text": [
      "copula_figure.png uploaded\n"
     ]
    }
   ],
   "source": [
    "with open('./data/figures/copula_figure.png', 'rb') as p:\n",
    "    data_processor.save_data(p, name='copula_figure.png')"
   ]
  },
  {
   "cell_type": "code",
   "execution_count": 32,
   "id": "fcb7229a-a0e8-4ef1-abd7-c1ab015aa20f",
   "metadata": {},
   "outputs": [],
   "source": [
    "columns = [c for c in synth.df.columns if c not in ['ESI_Key', 'RaterType']]\n",
    "\n",
    "stats = data_processor.compare_datasets(real_data=real_data,\n",
    "                                        synthetic_data=copula_synth_data, columns=columns)"
   ]
  },
  {
   "cell_type": "code",
   "execution_count": 33,
   "id": "f2b78b85-9ac8-4e7d-ab0d-d5805f512acd",
   "metadata": {},
   "outputs": [
    {
     "name": "stdout",
     "output_type": "stream",
     "text": [
      "copula_synth_data uploaded\n",
      "copula_corr uploaded\n",
      "copula_corr_diff uploaded\n",
      "copula_synth_stats uploaded\n"
     ]
    }
   ],
   "source": [
    "data_processor.save_data(df=copula_synth_data.to_csv(\n",
    "    index=False), name='copula_synth_data')\n",
    "data_processor.save_data(df=copula_corr.to_csv(\n",
    "    index=False), name='copula_corr')\n",
    "data_processor.save_data(df=copula_corr_diff.to_csv(\n",
    "    index=False), name='copula_corr_diff')\n",
    "data_processor.save_data(df=stats.to_csv(\n",
    "    index=False), name='copula_synth_stats')"
   ]
  },
  {
   "cell_type": "code",
   "execution_count": 34,
   "id": "06c91088",
   "metadata": {},
   "outputs": [
    {
     "name": "stdout",
     "output_type": "stream",
     "text": [
      "copula_cumsum_figure.png uploaded\n"
     ]
    }
   ],
   "source": [
    "figure_name = 'copula_cumsum_figure.png'\n",
    "plot = synth.visualize_cumsum(synthetic_data=copula_synth_data,\n",
    "                              column_names=column_names, fig_name=figure_name)\n",
    "\n",
    "with open(f'./data/figures/{figure_name}', 'rb') as p:\n",
    "    data_processor.save_data(p, name=figure_name)"
   ]
  }
 ],
 "metadata": {
  "kernelspec": {
   "display_name": "Synthetic Data",
   "language": "python",
   "name": "vsynth"
  },
  "language_info": {
   "codemirror_mode": {
    "name": "ipython",
    "version": 3
   },
   "file_extension": ".py",
   "mimetype": "text/x-python",
   "name": "python",
   "nbconvert_exporter": "python",
   "pygments_lexer": "ipython3",
   "version": "3.11.4"
  }
 },
 "nbformat": 4,
 "nbformat_minor": 5
}
