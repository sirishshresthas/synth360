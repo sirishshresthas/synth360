{
 "cells": [
  {
   "cell_type": "markdown",
   "id": "1b71fc26-b3d3-4a72-899b-119f05a33266",
   "metadata": {},
   "source": [
    "## Train Copula Gaussian Model"
   ]
  },
  {
   "cell_type": "code",
   "execution_count": 1,
   "id": "4ae448fd-72e5-404e-9e5f-eccd4a8c0a87",
   "metadata": {},
   "outputs": [],
   "source": [
    "%store -r real_data\n",
    "%store -r real_corr\n",
    "%store -r column_names\n",
    "%store -r synth\n",
    "%store -r data_processor\n",
    "%store -r results_folder"
   ]
  },
  {
   "cell_type": "code",
   "execution_count": 2,
   "id": "bb1c8f14-945d-4ac8-85d8-84e3a87a6462",
   "metadata": {},
   "outputs": [],
   "source": [
    "name = \"bmk2018_copula_demo.pkl\"\n",
    "corr_name = \"copula_corr\"\n",
    "fig_name = \"copula_figure.png\"\n",
    "synth_name = \"copula_synth_data\"\n",
    "synth_stats = \"copula_synth_stats.csv\"\n",
    "figure_name = 'copula_cumsum_figure.png'\n",
    "results_folder = results_folder + '/copula'"
   ]
  },
  {
   "cell_type": "code",
   "execution_count": 3,
   "id": "a9c23471-3021-475b-980d-04cc3a9a9c86",
   "metadata": {},
   "outputs": [
    {
     "data": {
      "text/plain": [
       "'results/demo/copula'"
      ]
     },
     "execution_count": 3,
     "metadata": {},
     "output_type": "execute_result"
    }
   ],
   "source": [
    "results_folder"
   ]
  },
  {
   "cell_type": "code",
   "execution_count": 4,
   "id": "ca429226-cf27-41cc-b747-ac4366641cf8",
   "metadata": {},
   "outputs": [
    {
     "name": "stdout",
     "output_type": "stream",
     "text": [
      "Model dir: data/models\n",
      "model:  bmk2018_copula_demo.pkl\n",
      "Retrieving existing model\n"
     ]
    }
   ],
   "source": [
    "copula_synthesizer = synth.train_copula_synthesizer(\n",
    "    model_name=name)"
   ]
  },
  {
   "cell_type": "code",
   "execution_count": 5,
   "id": "0615a709-8d38-433b-85e8-b783c40f0e18",
   "metadata": {},
   "outputs": [],
   "source": [
    "copula_synth_data = synth.generate_synthetic_sample(copula_synthesizer, 15000)"
   ]
  },
  {
   "cell_type": "code",
   "execution_count": 6,
   "id": "f4d7d434-111d-4806-8a4d-a752c211be84",
   "metadata": {},
   "outputs": [
    {
     "name": "stdout",
     "output_type": "stream",
     "text": [
      "results/demo/copula/copula_corr.html uploaded\n"
     ]
    }
   ],
   "source": [
    "copula_corr = synth.generate_corr_matrix(df=copula_synth_data)\n",
    "fig = synth.style_correlation_matrix(copula_corr)\n",
    "data_processor.save_data(\n",
    "    fig.to_html(), name=f\"{corr_name}.html\", folder=results_folder)"
   ]
  },
  {
   "cell_type": "code",
   "execution_count": 7,
   "id": "3cad2753-117f-4369-aca3-20dbf9fb144d",
   "metadata": {},
   "outputs": [
    {
     "name": "stdout",
     "output_type": "stream",
     "text": [
      "results/demo/copula/copula_corr_diff.html uploaded\n"
     ]
    }
   ],
   "source": [
    "copula_corr_diff = real_corr - copula_corr\n",
    "fig = synth.style_correlation_matrix(copula_corr_diff)\n",
    "data_processor.save_data(\n",
    "    fig.to_html(), name=f\"{corr_name}_diff.html\", folder=results_folder)"
   ]
  },
  {
   "cell_type": "code",
   "execution_count": 8,
   "id": "90b1b2c0-64c9-4414-aab1-e6688fd334eb",
   "metadata": {},
   "outputs": [],
   "source": [
    "# synth.metadata"
   ]
  },
  {
   "cell_type": "code",
   "execution_count": 9,
   "id": "f88b3b4b-a7ad-41be-bdb9-ee4d6e5dcbcf",
   "metadata": {},
   "outputs": [],
   "source": [
    "# print(synth.df.columns)\n",
    "# print(copula_synth_data.columns)\n",
    "# print(synth.metadata)"
   ]
  },
  {
   "cell_type": "code",
   "execution_count": 10,
   "id": "09df0dd2-f0b3-4e7f-801a-101b0ac072f4",
   "metadata": {},
   "outputs": [],
   "source": [
    "# synth.run_diagnostic(copula_synth_data)\n",
    "# synth.run_evaluation(copula_synth_data)"
   ]
  },
  {
   "cell_type": "code",
   "execution_count": 11,
   "id": "332fd928-dd1f-4779-b552-822ee389324a",
   "metadata": {},
   "outputs": [],
   "source": [
    "# plot = synth.visualize_data(synthetic_data=copula_synth_data,\n",
    "#                             data_name='copula', column_names=column_names, fig_name=fig_name)"
   ]
  },
  {
   "cell_type": "code",
   "execution_count": 12,
   "id": "b83345a0",
   "metadata": {},
   "outputs": [],
   "source": [
    "# with open(f'./data/figures/evaluations/copula/{fig_name}', 'rb') as p:\n",
    "#     data_processor.save_data(p, name=fig_name, folder=results_folder)"
   ]
  },
  {
   "cell_type": "code",
   "execution_count": 13,
   "id": "fcb7229a-a0e8-4ef1-abd7-c1ab015aa20f",
   "metadata": {},
   "outputs": [],
   "source": [
    "columns = [c for c in synth.df.columns if c not in [\n",
    "    'ESI_Key', 'RaterType', 'Gender', 'Race']]\n",
    "\n",
    "stats, rs, ss = data_processor.compare_datasets(real_data=real_data,\n",
    "                                        synthetic_data=copula_synth_data, columns=columns)"
   ]
  },
  {
   "cell_type": "code",
   "execution_count": null,
   "id": "1a9a0496-0a78-4d5e-8578-6caab891b1b5",
   "metadata": {},
   "outputs": [],
   "source": []
  },
  {
   "cell_type": "code",
   "execution_count": 14,
   "id": "03ffa3d6",
   "metadata": {},
   "outputs": [
    {
     "data": {
      "text/html": [
       "<div>\n",
       "<style scoped>\n",
       "    .dataframe tbody tr th:only-of-type {\n",
       "        vertical-align: middle;\n",
       "    }\n",
       "\n",
       "    .dataframe tbody tr th {\n",
       "        vertical-align: top;\n",
       "    }\n",
       "\n",
       "    .dataframe thead th {\n",
       "        text-align: right;\n",
       "    }\n",
       "</style>\n",
       "<table border=\"1\" class=\"dataframe\">\n",
       "  <thead>\n",
       "    <tr style=\"text-align: right;\">\n",
       "      <th></th>\n",
       "      <th>Min</th>\n",
       "      <th>Max</th>\n",
       "      <th>Median</th>\n",
       "      <th>Mean</th>\n",
       "      <th>SD</th>\n",
       "      <th>kurtosis</th>\n",
       "      <th>skewness</th>\n",
       "    </tr>\n",
       "  </thead>\n",
       "  <tbody>\n",
       "    <tr>\n",
       "      <th>BMK_S01_Strategic_real</th>\n",
       "      <td>1.500</td>\n",
       "      <td>5.0</td>\n",
       "      <td>4.000</td>\n",
       "      <td>4.040</td>\n",
       "      <td>0.436</td>\n",
       "      <td>0.074</td>\n",
       "      <td>-0.120</td>\n",
       "    </tr>\n",
       "    <tr>\n",
       "      <th>BMK_S02_Quick_real</th>\n",
       "      <td>1.333</td>\n",
       "      <td>5.0</td>\n",
       "      <td>4.000</td>\n",
       "      <td>3.950</td>\n",
       "      <td>0.602</td>\n",
       "      <td>-0.311</td>\n",
       "      <td>-0.136</td>\n",
       "    </tr>\n",
       "    <tr>\n",
       "      <th>BMK_S03_Decisive_real</th>\n",
       "      <td>1.000</td>\n",
       "      <td>5.0</td>\n",
       "      <td>4.000</td>\n",
       "      <td>3.896</td>\n",
       "      <td>0.608</td>\n",
       "      <td>0.045</td>\n",
       "      <td>-0.273</td>\n",
       "    </tr>\n",
       "    <tr>\n",
       "      <th>BMK_S04_Change_real</th>\n",
       "      <td>1.778</td>\n",
       "      <td>5.0</td>\n",
       "      <td>3.889</td>\n",
       "      <td>3.922</td>\n",
       "      <td>0.446</td>\n",
       "      <td>0.048</td>\n",
       "      <td>0.085</td>\n",
       "    </tr>\n",
       "    <tr>\n",
       "      <th>BMK_S05_Leading_real</th>\n",
       "      <td>1.692</td>\n",
       "      <td>5.0</td>\n",
       "      <td>3.846</td>\n",
       "      <td>3.890</td>\n",
       "      <td>0.448</td>\n",
       "      <td>-0.025</td>\n",
       "      <td>0.018</td>\n",
       "    </tr>\n",
       "    <tr>\n",
       "      <th>...</th>\n",
       "      <td>...</td>\n",
       "      <td>...</td>\n",
       "      <td>...</td>\n",
       "      <td>...</td>\n",
       "      <td>...</td>\n",
       "      <td>...</td>\n",
       "      <td>...</td>\n",
       "    </tr>\n",
       "    <tr>\n",
       "      <th>BMK_D04_Failure_direct_report_real</th>\n",
       "      <td>1.000</td>\n",
       "      <td>5.0</td>\n",
       "      <td>1.381</td>\n",
       "      <td>1.496</td>\n",
       "      <td>0.467</td>\n",
       "      <td>4.730</td>\n",
       "      <td>1.803</td>\n",
       "    </tr>\n",
       "    <tr>\n",
       "      <th>BMK_D04_Failure_peer_real</th>\n",
       "      <td>1.000</td>\n",
       "      <td>5.0</td>\n",
       "      <td>1.500</td>\n",
       "      <td>1.597</td>\n",
       "      <td>0.471</td>\n",
       "      <td>3.056</td>\n",
       "      <td>1.390</td>\n",
       "    </tr>\n",
       "    <tr>\n",
       "      <th>BMK_D05_Narrow_boss_real</th>\n",
       "      <td>1.000</td>\n",
       "      <td>5.0</td>\n",
       "      <td>1.700</td>\n",
       "      <td>1.822</td>\n",
       "      <td>0.737</td>\n",
       "      <td>0.717</td>\n",
       "      <td>0.984</td>\n",
       "    </tr>\n",
       "    <tr>\n",
       "      <th>BMK_D05_Narrow_direct_report_real</th>\n",
       "      <td>1.000</td>\n",
       "      <td>5.0</td>\n",
       "      <td>1.467</td>\n",
       "      <td>1.587</td>\n",
       "      <td>0.512</td>\n",
       "      <td>3.419</td>\n",
       "      <td>1.541</td>\n",
       "    </tr>\n",
       "    <tr>\n",
       "      <th>BMK_D05_Narrow_peer_real</th>\n",
       "      <td>1.000</td>\n",
       "      <td>5.0</td>\n",
       "      <td>1.733</td>\n",
       "      <td>1.832</td>\n",
       "      <td>0.582</td>\n",
       "      <td>1.205</td>\n",
       "      <td>0.974</td>\n",
       "    </tr>\n",
       "  </tbody>\n",
       "</table>\n",
       "<p>64 rows × 7 columns</p>\n",
       "</div>"
      ],
      "text/plain": [
       "                                      Min  Max  Median   Mean     SD  \\\n",
       "BMK_S01_Strategic_real              1.500  5.0   4.000  4.040  0.436   \n",
       "BMK_S02_Quick_real                  1.333  5.0   4.000  3.950  0.602   \n",
       "BMK_S03_Decisive_real               1.000  5.0   4.000  3.896  0.608   \n",
       "BMK_S04_Change_real                 1.778  5.0   3.889  3.922  0.446   \n",
       "BMK_S05_Leading_real                1.692  5.0   3.846  3.890  0.448   \n",
       "...                                   ...  ...     ...    ...    ...   \n",
       "BMK_D04_Failure_direct_report_real  1.000  5.0   1.381  1.496  0.467   \n",
       "BMK_D04_Failure_peer_real           1.000  5.0   1.500  1.597  0.471   \n",
       "BMK_D05_Narrow_boss_real            1.000  5.0   1.700  1.822  0.737   \n",
       "BMK_D05_Narrow_direct_report_real   1.000  5.0   1.467  1.587  0.512   \n",
       "BMK_D05_Narrow_peer_real            1.000  5.0   1.733  1.832  0.582   \n",
       "\n",
       "                                    kurtosis  skewness  \n",
       "BMK_S01_Strategic_real                 0.074    -0.120  \n",
       "BMK_S02_Quick_real                    -0.311    -0.136  \n",
       "BMK_S03_Decisive_real                  0.045    -0.273  \n",
       "BMK_S04_Change_real                    0.048     0.085  \n",
       "BMK_S05_Leading_real                  -0.025     0.018  \n",
       "...                                      ...       ...  \n",
       "BMK_D04_Failure_direct_report_real     4.730     1.803  \n",
       "BMK_D04_Failure_peer_real              3.056     1.390  \n",
       "BMK_D05_Narrow_boss_real               0.717     0.984  \n",
       "BMK_D05_Narrow_direct_report_real      3.419     1.541  \n",
       "BMK_D05_Narrow_peer_real               1.205     0.974  \n",
       "\n",
       "[64 rows x 7 columns]"
      ]
     },
     "execution_count": 14,
     "metadata": {},
     "output_type": "execute_result"
    }
   ],
   "source": [
    "rs"
   ]
  },
  {
   "cell_type": "code",
   "execution_count": 15,
   "id": "b15ef230",
   "metadata": {},
   "outputs": [
    {
     "data": {
      "text/html": [
       "<div>\n",
       "<style scoped>\n",
       "    .dataframe tbody tr th:only-of-type {\n",
       "        vertical-align: middle;\n",
       "    }\n",
       "\n",
       "    .dataframe tbody tr th {\n",
       "        vertical-align: top;\n",
       "    }\n",
       "\n",
       "    .dataframe thead th {\n",
       "        text-align: right;\n",
       "    }\n",
       "</style>\n",
       "<table border=\"1\" class=\"dataframe\">\n",
       "  <thead>\n",
       "    <tr style=\"text-align: right;\">\n",
       "      <th></th>\n",
       "      <th>Min</th>\n",
       "      <th>Max</th>\n",
       "      <th>Median</th>\n",
       "      <th>Mean</th>\n",
       "      <th>SD</th>\n",
       "      <th>kurtosis</th>\n",
       "      <th>skewness</th>\n",
       "      <th>Cohen's d</th>\n",
       "    </tr>\n",
       "  </thead>\n",
       "  <tbody>\n",
       "    <tr>\n",
       "      <th>BMK_D01_Interper_boss_real</th>\n",
       "      <td>1.000</td>\n",
       "      <td>5.000</td>\n",
       "      <td>1.250</td>\n",
       "      <td>1.439</td>\n",
       "      <td>0.575</td>\n",
       "      <td>4.993</td>\n",
       "      <td>2.020</td>\n",
       "      <td>NaN</td>\n",
       "    </tr>\n",
       "    <tr>\n",
       "      <th>BMK_D01_Interper_boss_synth</th>\n",
       "      <td>1.000</td>\n",
       "      <td>3.577</td>\n",
       "      <td>1.437</td>\n",
       "      <td>1.505</td>\n",
       "      <td>0.456</td>\n",
       "      <td>-0.005</td>\n",
       "      <td>0.758</td>\n",
       "      <td>-0.127</td>\n",
       "    </tr>\n",
       "    <tr>\n",
       "      <th>BMK_D01_Interper_direct_report_real</th>\n",
       "      <td>1.000</td>\n",
       "      <td>5.000</td>\n",
       "      <td>1.310</td>\n",
       "      <td>1.462</td>\n",
       "      <td>0.496</td>\n",
       "      <td>4.893</td>\n",
       "      <td>1.920</td>\n",
       "      <td>NaN</td>\n",
       "    </tr>\n",
       "    <tr>\n",
       "      <th>BMK_D01_Interper_direct_report_synth</th>\n",
       "      <td>1.000</td>\n",
       "      <td>3.167</td>\n",
       "      <td>1.454</td>\n",
       "      <td>1.497</td>\n",
       "      <td>0.409</td>\n",
       "      <td>-0.230</td>\n",
       "      <td>0.614</td>\n",
       "      <td>-0.077</td>\n",
       "    </tr>\n",
       "    <tr>\n",
       "      <th>BMK_D01_Interper_peer_real</th>\n",
       "      <td>1.000</td>\n",
       "      <td>5.000</td>\n",
       "      <td>1.375</td>\n",
       "      <td>1.519</td>\n",
       "      <td>0.493</td>\n",
       "      <td>3.922</td>\n",
       "      <td>1.698</td>\n",
       "      <td>NaN</td>\n",
       "    </tr>\n",
       "    <tr>\n",
       "      <th>...</th>\n",
       "      <td>...</td>\n",
       "      <td>...</td>\n",
       "      <td>...</td>\n",
       "      <td>...</td>\n",
       "      <td>...</td>\n",
       "      <td>...</td>\n",
       "      <td>...</td>\n",
       "      <td>...</td>\n",
       "    </tr>\n",
       "    <tr>\n",
       "      <th>BMK_S11_Respect_direct_report_synth</th>\n",
       "      <td>3.097</td>\n",
       "      <td>5.000</td>\n",
       "      <td>4.520</td>\n",
       "      <td>4.500</td>\n",
       "      <td>0.346</td>\n",
       "      <td>-0.317</td>\n",
       "      <td>-0.434</td>\n",
       "      <td>0.043</td>\n",
       "    </tr>\n",
       "    <tr>\n",
       "      <th>BMK_S11_Respect_peer_real</th>\n",
       "      <td>1.000</td>\n",
       "      <td>5.000</td>\n",
       "      <td>4.500</td>\n",
       "      <td>4.446</td>\n",
       "      <td>0.391</td>\n",
       "      <td>2.911</td>\n",
       "      <td>-1.060</td>\n",
       "      <td>NaN</td>\n",
       "    </tr>\n",
       "    <tr>\n",
       "      <th>BMK_S11_Respect_peer_synth</th>\n",
       "      <td>3.045</td>\n",
       "      <td>5.000</td>\n",
       "      <td>4.439</td>\n",
       "      <td>4.428</td>\n",
       "      <td>0.360</td>\n",
       "      <td>-0.350</td>\n",
       "      <td>-0.317</td>\n",
       "      <td>0.048</td>\n",
       "    </tr>\n",
       "    <tr>\n",
       "      <th>BMK_S11_Respect_real</th>\n",
       "      <td>2.000</td>\n",
       "      <td>5.000</td>\n",
       "      <td>4.500</td>\n",
       "      <td>4.444</td>\n",
       "      <td>0.495</td>\n",
       "      <td>-0.183</td>\n",
       "      <td>-0.625</td>\n",
       "      <td>NaN</td>\n",
       "    </tr>\n",
       "    <tr>\n",
       "      <th>BMK_S11_Respect_synth</th>\n",
       "      <td>2.725</td>\n",
       "      <td>5.000</td>\n",
       "      <td>4.439</td>\n",
       "      <td>4.409</td>\n",
       "      <td>0.442</td>\n",
       "      <td>-0.365</td>\n",
       "      <td>-0.482</td>\n",
       "      <td>0.075</td>\n",
       "    </tr>\n",
       "  </tbody>\n",
       "</table>\n",
       "<p>128 rows × 8 columns</p>\n",
       "</div>"
      ],
      "text/plain": [
       "                                        Min    Max  Median   Mean     SD  \\\n",
       "BMK_D01_Interper_boss_real            1.000  5.000   1.250  1.439  0.575   \n",
       "BMK_D01_Interper_boss_synth           1.000  3.577   1.437  1.505  0.456   \n",
       "BMK_D01_Interper_direct_report_real   1.000  5.000   1.310  1.462  0.496   \n",
       "BMK_D01_Interper_direct_report_synth  1.000  3.167   1.454  1.497  0.409   \n",
       "BMK_D01_Interper_peer_real            1.000  5.000   1.375  1.519  0.493   \n",
       "...                                     ...    ...     ...    ...    ...   \n",
       "BMK_S11_Respect_direct_report_synth   3.097  5.000   4.520  4.500  0.346   \n",
       "BMK_S11_Respect_peer_real             1.000  5.000   4.500  4.446  0.391   \n",
       "BMK_S11_Respect_peer_synth            3.045  5.000   4.439  4.428  0.360   \n",
       "BMK_S11_Respect_real                  2.000  5.000   4.500  4.444  0.495   \n",
       "BMK_S11_Respect_synth                 2.725  5.000   4.439  4.409  0.442   \n",
       "\n",
       "                                      kurtosis  skewness  Cohen's d  \n",
       "BMK_D01_Interper_boss_real               4.993     2.020        NaN  \n",
       "BMK_D01_Interper_boss_synth             -0.005     0.758     -0.127  \n",
       "BMK_D01_Interper_direct_report_real      4.893     1.920        NaN  \n",
       "BMK_D01_Interper_direct_report_synth    -0.230     0.614     -0.077  \n",
       "BMK_D01_Interper_peer_real               3.922     1.698        NaN  \n",
       "...                                        ...       ...        ...  \n",
       "BMK_S11_Respect_direct_report_synth     -0.317    -0.434      0.043  \n",
       "BMK_S11_Respect_peer_real                2.911    -1.060        NaN  \n",
       "BMK_S11_Respect_peer_synth              -0.350    -0.317      0.048  \n",
       "BMK_S11_Respect_real                    -0.183    -0.625        NaN  \n",
       "BMK_S11_Respect_synth                   -0.365    -0.482      0.075  \n",
       "\n",
       "[128 rows x 8 columns]"
      ]
     },
     "execution_count": 15,
     "metadata": {},
     "output_type": "execute_result"
    }
   ],
   "source": [
    "stats"
   ]
  },
  {
   "cell_type": "code",
   "execution_count": null,
   "id": "06c91088",
   "metadata": {},
   "outputs": [],
   "source": [
    "# plot = synth.visualize_cumsum(synthetic_data=copula_synth_data,\n",
    "#                               column_names=column_names, fig_name=figure_name)\n",
    "\n",
    "# with open(f'./data/figures/{figure_name}', 'rb') as p:\n",
    "#     data_processor.save_data(p, name=figure_name)\n",
    "\n",
    "\n",
    "plot_list = synth.visualize_evaluation(\n",
    "    synthetic_data=copula_synth_data, data_name='copula', demo_cols=data_processor.demo_cols)"
   ]
  },
  {
   "cell_type": "code",
   "execution_count": 18,
   "id": "f2b78b85-9ac8-4e7d-ab0d-d5805f512acd",
   "metadata": {},
   "outputs": [
    {
     "name": "stdout",
     "output_type": "stream",
     "text": [
      "results/demo/copula/copula_synth_data.csv uploaded\n",
      "results/demo/copula/copula_corr uploaded\n",
      "results/demo/copula/copula_corr_diff uploaded\n",
      "results/demo/copula/copula_synth_stats.csv uploaded\n"
     ]
    }
   ],
   "source": [
    "data_processor.save_data(df=copula_synth_data.to_csv(\n",
    "    index=True), name=f\"{synth_name}.csv\", folder=results_folder)\n",
    "data_processor.save_data(df=copula_corr.to_csv(\n",
    "    index=True), name=corr_name, folder=results_folder)\n",
    "data_processor.save_data(df=copula_corr_diff.to_csv(\n",
    "    index=True), name=f'{corr_name}_diff', folder=results_folder)\n",
    "data_processor.save_data(df=stats.to_csv(\n",
    "    index=True), name=synth_stats, folder=results_folder)"
   ]
  },
  {
   "cell_type": "code",
   "execution_count": null,
   "id": "b16894a0-bbb8-4181-9c41-06c181331e87",
   "metadata": {},
   "outputs": [],
   "source": [
    "for plot in plot_list:\n",
    "    with open(plot, 'rb') as p:\n",
    "        plot_name = os.path.basename(plot)\n",
    "        data_processor.save_data(p, name=plot_name, folder=results_folder)"
   ]
  },
  {
   "cell_type": "code",
   "execution_count": null,
   "id": "dbdeed24-1057-4858-b2f4-4836517c6555",
   "metadata": {},
   "outputs": [],
   "source": []
  }
 ],
 "metadata": {
  "kernelspec": {
   "display_name": "Synthetic Data",
   "language": "python",
   "name": "vsynth"
  },
  "language_info": {
   "codemirror_mode": {
    "name": "ipython",
    "version": 3
   },
   "file_extension": ".py",
   "mimetype": "text/x-python",
   "name": "python",
   "nbconvert_exporter": "python",
   "pygments_lexer": "ipython3",
   "version": "3.11.4"
  }
 },
 "nbformat": 4,
 "nbformat_minor": 5
}
