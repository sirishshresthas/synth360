{
 "cells": [
  {
   "cell_type": "code",
   "execution_count": 1,
   "id": "d3cc1db9-ecda-4c63-aca8-b91c5e8ab5b5",
   "metadata": {},
   "outputs": [],
   "source": [
    "import pickle\n",
    "import os\n",
    "import numpy as np\n",
    "import pandas as pd\n",
    "import matplotlib.pyplot as plt"
   ]
  },
  {
   "cell_type": "code",
   "execution_count": 2,
   "id": "4831b42a",
   "metadata": {},
   "outputs": [],
   "source": [
    "from src.core import LoadBlob, SynthLeader, DataProcessor"
   ]
  },
  {
   "cell_type": "code",
   "execution_count": 3,
   "id": "ff40a6c4-4d60-4224-a763-082516b41159",
   "metadata": {},
   "outputs": [],
   "source": [
    "# if not os.path.exists(\"./data/bmk2018.pkl\"):\n",
    "#     data = blob.load_csv_from_azure_storage(blob_name = 'BMK_2018.csv')\n",
    "#     # data['RaterType'] = data['RaterType'].str.lower()\n",
    "\n",
    "#     if not os.path.exists(\"./data\"):\n",
    "#         os.mkdir(\"./data\")\n",
    "#     with open('./data/bmk2018.pkl', 'wb') as pkl:\n",
    "#         pickle.dump(data, pkl, protocol=pickle.HIGHEST_PROTOCOL)\n",
    "# else:\n",
    "#     try:\n",
    "#         with open('./data/bmk2018.pkl', 'rb') as pkl:\n",
    "#             data = pickle.load(pkl)\n",
    "#     except EOFError:\n",
    "#         print(\"Error: End of file reached unexpectedly. Check for file corruption or empty file.\")\n",
    "#     except FileNotFoundError:\n",
    "#         print(\"Error: File not found. Verify the file path.\")\n",
    "#     except Exception as e:\n",
    "#         print(f\"An unexpected error occurred: {e}\")"
   ]
  },
  {
   "cell_type": "code",
   "execution_count": 5,
   "id": "f47d2161",
   "metadata": {},
   "outputs": [
    {
     "name": "stdout",
     "output_type": "stream",
     "text": [
      "\n"
     ]
    },
    {
     "ename": "ValueError",
     "evalue": "Invalid URL: https://",
     "output_type": "error",
     "traceback": [
      "\u001b[0;31m---------------------------------------------------------------------------\u001b[0m",
      "\u001b[0;31mValueError\u001b[0m                                Traceback (most recent call last)",
      "Cell \u001b[0;32mIn[5], line 1\u001b[0m\n\u001b[0;32m----> 1\u001b[0m data_processor \u001b[38;5;241m=\u001b[39m \u001b[43mDataProcessor\u001b[49m\u001b[43m(\u001b[49m\u001b[43mdata\u001b[49m\u001b[38;5;241;43m=\u001b[39;49m\u001b[38;5;124;43m\"\u001b[39;49m\u001b[38;5;124;43mBMK_2018.csv\u001b[39;49m\u001b[38;5;124;43m\"\u001b[39;49m\u001b[43m)\u001b[49m\n",
      "File \u001b[0;32m/mnt/batch/tasks/shared/LS_root/mounts/clusters/zeusmlh15-gpu/code/Users/shresthas/sources/ss-synthetic-data-generation/src/core/DataProcessor.py:17\u001b[0m, in \u001b[0;36mDataProcessor.__init__\u001b[0;34m(self, data)\u001b[0m\n\u001b[1;32m     15\u001b[0m \u001b[38;5;28mself\u001b[39m\u001b[38;5;241m.\u001b[39m_demo_cols \u001b[38;5;241m=\u001b[39m []\n\u001b[1;32m     16\u001b[0m \u001b[38;5;28mself\u001b[39m\u001b[38;5;241m.\u001b[39m_items_cols \u001b[38;5;241m=\u001b[39m []\n\u001b[0;32m---> 17\u001b[0m \u001b[38;5;28mself\u001b[39m\u001b[38;5;241m.\u001b[39mdf \u001b[38;5;241m=\u001b[39m \u001b[38;5;28;43mself\u001b[39;49m\u001b[38;5;241;43m.\u001b[39;49m\u001b[43m_load_data\u001b[49m\u001b[43m(\u001b[49m\u001b[43m)\u001b[49m\n",
      "File \u001b[0;32m/mnt/batch/tasks/shared/LS_root/mounts/clusters/zeusmlh15-gpu/code/Users/shresthas/sources/ss-synthetic-data-generation/src/core/DataProcessor.py:58\u001b[0m, in \u001b[0;36mDataProcessor._load_data\u001b[0;34m(self)\u001b[0m\n\u001b[1;32m     57\u001b[0m \u001b[38;5;28;01mdef\u001b[39;00m \u001b[38;5;21m_load_data\u001b[39m(\u001b[38;5;28mself\u001b[39m):\n\u001b[0;32m---> 58\u001b[0m     blob \u001b[38;5;241m=\u001b[39m \u001b[43mLoadBlob\u001b[49m\u001b[43m(\u001b[49m\u001b[38;5;28;43mself\u001b[39;49m\u001b[38;5;241;43m.\u001b[39;49m\u001b[43mdata_name\u001b[49m\u001b[43m)\u001b[49m\n\u001b[1;32m     59\u001b[0m     df \u001b[38;5;241m=\u001b[39m blob\u001b[38;5;241m.\u001b[39mload_data()\n\u001b[1;32m     61\u001b[0m     \u001b[38;5;28;01mif\u001b[39;00m \u001b[38;5;28mself\u001b[39m\u001b[38;5;241m.\u001b[39mdemo_cols \u001b[38;5;129;01mand\u001b[39;00m \u001b[38;5;28mself\u001b[39m\u001b[38;5;241m.\u001b[39mitems_cols:\n",
      "File \u001b[0;32m/mnt/batch/tasks/shared/LS_root/mounts/clusters/zeusmlh15-gpu/code/Users/shresthas/sources/ss-synthetic-data-generation/src/core/LoadBlob.py:25\u001b[0m, in \u001b[0;36mLoadBlob.__init__\u001b[0;34m(self, blob_name)\u001b[0m\n\u001b[1;32m     22\u001b[0m \u001b[38;5;28mprint\u001b[39m(settings\u001b[38;5;241m.\u001b[39mAZURE_ACCOUNT_URL, flush\u001b[38;5;241m=\u001b[39m\u001b[38;5;28;01mTrue\u001b[39;00m)\n\u001b[1;32m     24\u001b[0m \u001b[38;5;66;03m# Create a BlobServiceClient\u001b[39;00m\n\u001b[0;32m---> 25\u001b[0m \u001b[38;5;28mself\u001b[39m\u001b[38;5;241m.\u001b[39mblob_service_client: BlobServiceClient \u001b[38;5;241m=\u001b[39m \u001b[43mBlobServiceClient\u001b[49m\u001b[43m(\u001b[49m\n\u001b[1;32m     26\u001b[0m \u001b[43m    \u001b[49m\u001b[43maccount_url\u001b[49m\u001b[38;5;241;43m=\u001b[39;49m\u001b[43msettings\u001b[49m\u001b[38;5;241;43m.\u001b[39;49m\u001b[43mAZURE_ACCOUNT_URL\u001b[49m\u001b[43m,\u001b[49m\n\u001b[1;32m     27\u001b[0m \u001b[43m    \u001b[49m\u001b[43mcredential\u001b[49m\u001b[38;5;241;43m=\u001b[39;49m\u001b[43msettings\u001b[49m\u001b[38;5;241;43m.\u001b[39;49m\u001b[43mAZURE_BLOB_ACCESS_KEY\u001b[49m\u001b[43m)\u001b[49m\n\u001b[1;32m     29\u001b[0m \u001b[38;5;66;03m# Get a reference to the container\u001b[39;00m\n\u001b[1;32m     30\u001b[0m \u001b[38;5;28mself\u001b[39m\u001b[38;5;241m.\u001b[39mcontainer_client: ContainerClient \u001b[38;5;241m=\u001b[39m blob_service_client\u001b[38;5;241m.\u001b[39mget_container_client(\n\u001b[1;32m     31\u001b[0m     settings\u001b[38;5;241m.\u001b[39mAZURE_CONTAINER_NAME)\n",
      "File \u001b[0;32m/anaconda/envs/vsynth/lib/python3.11/site-packages/azure/storage/blob/_blob_service_client.py:135\u001b[0m, in \u001b[0;36mBlobServiceClient.__init__\u001b[0;34m(self, account_url, credential, **kwargs)\u001b[0m\n\u001b[1;32m    133\u001b[0m parsed_url \u001b[38;5;241m=\u001b[39m urlparse(account_url\u001b[38;5;241m.\u001b[39mrstrip(\u001b[38;5;124m'\u001b[39m\u001b[38;5;124m/\u001b[39m\u001b[38;5;124m'\u001b[39m))\n\u001b[1;32m    134\u001b[0m \u001b[38;5;28;01mif\u001b[39;00m \u001b[38;5;129;01mnot\u001b[39;00m parsed_url\u001b[38;5;241m.\u001b[39mnetloc:\n\u001b[0;32m--> 135\u001b[0m     \u001b[38;5;28;01mraise\u001b[39;00m \u001b[38;5;167;01mValueError\u001b[39;00m(\u001b[38;5;124mf\u001b[39m\u001b[38;5;124m\"\u001b[39m\u001b[38;5;124mInvalid URL: \u001b[39m\u001b[38;5;132;01m{\u001b[39;00maccount_url\u001b[38;5;132;01m}\u001b[39;00m\u001b[38;5;124m\"\u001b[39m)\n\u001b[1;32m    137\u001b[0m _, sas_token \u001b[38;5;241m=\u001b[39m parse_query(parsed_url\u001b[38;5;241m.\u001b[39mquery)\n\u001b[1;32m    138\u001b[0m \u001b[38;5;28mself\u001b[39m\u001b[38;5;241m.\u001b[39m_query_str, credential \u001b[38;5;241m=\u001b[39m \u001b[38;5;28mself\u001b[39m\u001b[38;5;241m.\u001b[39m_format_query_string(sas_token, credential)\n",
      "\u001b[0;31mValueError\u001b[0m: Invalid URL: https://"
     ]
    }
   ],
   "source": [
    "data_processor = DataProcessor(data=\"BMK_2018.csv\")"
   ]
  },
  {
   "cell_type": "code",
   "execution_count": 5,
   "id": "e73a1ed6",
   "metadata": {},
   "outputs": [
    {
     "ename": "KeyError",
     "evalue": "'AZURE_ACCOUNT_URL'",
     "output_type": "error",
     "traceback": [
      "\u001b[0;31m---------------------------------------------------------------------------\u001b[0m",
      "\u001b[0;31mKeyError\u001b[0m                                  Traceback (most recent call last)",
      "Cell \u001b[0;32mIn[5], line 4\u001b[0m\n\u001b[1;32m      1\u001b[0m \u001b[38;5;28;01mfrom\u001b[39;00m \u001b[38;5;21;01mdotenv\u001b[39;00m \u001b[38;5;28;01mimport\u001b[39;00m load_dotenv\n\u001b[1;32m      2\u001b[0m load_dotenv()\n\u001b[0;32m----> 4\u001b[0m \u001b[43mos\u001b[49m\u001b[38;5;241;43m.\u001b[39;49m\u001b[43menviron\u001b[49m\u001b[43m[\u001b[49m\u001b[38;5;124;43m\"\u001b[39;49m\u001b[38;5;124;43mAZURE_ACCOUNT_URL\u001b[39;49m\u001b[38;5;124;43m\"\u001b[39;49m\u001b[43m]\u001b[49m\n",
      "File \u001b[0;32m<frozen os>:679\u001b[0m, in \u001b[0;36m__getitem__\u001b[0;34m(self, key)\u001b[0m\n",
      "\u001b[0;31mKeyError\u001b[0m: 'AZURE_ACCOUNT_URL'"
     ]
    }
   ],
   "source": [
    "from dotenv import load_dotenv\n",
    "load_dotenv()\n",
    "\n",
    "os.environ[\"AZURE_ACCOUNT_URL\"]"
   ]
  },
  {
   "cell_type": "code",
   "execution_count": null,
   "id": "badfe45b-7999-4c9d-ae9e-7f656d14af11",
   "metadata": {},
   "outputs": [],
   "source": [
    "rater_count = count_raters(data)\n",
    "rater_count"
   ]
  },
  {
   "cell_type": "code",
   "execution_count": null,
   "id": "0c01f6bb-df99-4a86-845d-066a70f5b358",
   "metadata": {},
   "outputs": [],
   "source": [
    "select_data = data[[\"ESI_Key\", \"RaterType\"]]\n",
    "peer_counts = select_data[select_data[\"RaterType\"]\n",
    "                          == \"Peer\"].groupby(\"ESI_Key\").size()\n",
    "boss_counts = select_data[select_data[\"RaterType\"]\n",
    "                          == \"Boss\"].groupby(\"ESI_Key\").size()\n",
    "direct_report_counts = select_data[select_data[\"RaterType\"]\n",
    "                                   == \"Direct Report\"].groupby(\"ESI_Key\").size()\n",
    "\n",
    "# Plotting\n",
    "plt.figure(figsize=(14, 6))\n",
    "\n",
    "# Histogram for peer counts\n",
    "plt.subplot(1, 3, 1)  # 1 row, 3 cols, 1st subplot\n",
    "plt.hist(peer_counts, bins=10, color='blue', alpha=0.7)\n",
    "plt.title('Distribution of Peer Rater Counts')\n",
    "plt.xlabel('Counts')\n",
    "plt.ylabel('Frequency')\n",
    "\n",
    "\n",
    "# Histogram for boss counts\n",
    "plt.subplot(1, 3, 2)  # 1 row, 3 cols, 2nd subplot\n",
    "plt.hist(boss_counts, bins=10, color='green', alpha=0.7)\n",
    "plt.title('Distribution of Boss Rater Counts')\n",
    "plt.xlabel('Counts')\n",
    "plt.ylabel('Frequency')\n",
    "\n",
    "# Histogram for direct report counts\n",
    "plt.subplot(1, 3, 3)  # 1 row, 3 cols, 3rd subplot\n",
    "plt.hist(direct_report_counts, bins=10, color='red', alpha=0.7)\n",
    "plt.title('Distribution of Direct Report Rater Counts')\n",
    "plt.xlabel('Counts')\n",
    "plt.ylabel('Frequency')\n",
    "\n",
    "plt.tight_layout()\n",
    "plt.show()"
   ]
  },
  {
   "cell_type": "code",
   "execution_count": null,
   "id": "86abec3c-0189-4020-9615-c1b517dce8e6",
   "metadata": {},
   "outputs": [],
   "source": [
    "print(\"Peer: \", peer_counts.min(), peer_counts.max())\n",
    "print(\"Boss: \", boss_counts.min(), boss_counts.max())\n",
    "print(\"Direct Report: \", direct_report_counts.min(), direct_report_counts.max())"
   ]
  },
  {
   "cell_type": "code",
   "execution_count": null,
   "id": "01cfd95e-2171-4a03-b109-b1771d5718fb",
   "metadata": {},
   "outputs": [],
   "source": [
    "# Group by 'ESI_Key' and count unique 'RaterType' values\n",
    "unique_rater_counts = data.groupby(\"ESI_Key\")[\"RaterType\"].nunique()\n",
    "\n",
    "# Get the `ESI_Key` of self raters with more than 4 raters\n",
    "esi_full_raters = unique_rater_counts[unique_rater_counts >= 4]\n",
    "\n",
    "data = data[data[\"ESI_Key\"].isin(esi_full_raters.index)]"
   ]
  },
  {
   "cell_type": "code",
   "execution_count": null,
   "id": "134c36ea-c409-471e-849c-e4f7d8352903",
   "metadata": {},
   "outputs": [],
   "source": [
    "data[\"RaterType\"].unique()\n",
    "\n",
    "# there are Superior and Other raters that is not important for the work. Removing it\n",
    "data = data[~data[\"RaterType\"].isin(['Superior', 'Other'])]"
   ]
  },
  {
   "cell_type": "code",
   "execution_count": null,
   "id": "ba5b9fb0-0b81-4e7e-bca5-69facefdccd7",
   "metadata": {},
   "outputs": [],
   "source": [
    "demo_cols = [\n",
    "    \"Age\",\n",
    "    \"Race\",\n",
    "    \"OrganizationSector\",\n",
    "    \"OrganizationType\",\n",
    "    \"RaterType\",\n",
    "    \"OrganizationLevel\",\n",
    "    \"Gender\"\n",
    "]"
   ]
  },
  {
   "cell_type": "code",
   "execution_count": null,
   "id": "6a6825ac-f65d-4991-9c90-955b3285a9ec",
   "metadata": {},
   "outputs": [],
   "source": [
    "# all the items cols\n",
    "items_cols = [\"ESI_Key\", \"BMK_S01_Strategic\", \"BMK_S02_Quick\", \"BMK_S03_Decisive\", \"BMK_S04_Change\", \"BMK_S05_Leading\",\n",
    "              \"BMK_S06_Confront\", \"BMK_S07_Participative\", \"BMK_S08_Build\", \"BMK_S09_Compassion\", \"BMK_S10_Putting\", \"BMK_S11_Respect\"]"
   ]
  },
  {
   "cell_type": "code",
   "execution_count": null,
   "id": "d3b90828-3e10-4b7f-a3ba-bc9670fdcd48",
   "metadata": {},
   "outputs": [],
   "source": [
    "# real_data[(real_data[\"ESI_Key\"] == 4421981) & (real_data[\"RaterType\"] == \"Direct Report\")]\n",
    "# demo_cols + items_cols"
   ]
  },
  {
   "cell_type": "code",
   "execution_count": null,
   "id": "3681700d-e3ae-4dbc-923b-392b2ab505e4",
   "metadata": {},
   "outputs": [],
   "source": [
    "real_data = data.loc[:, demo_cols + items_cols]"
   ]
  },
  {
   "cell_type": "code",
   "execution_count": null,
   "id": "7c94cf59-e1e4-4e0c-bd7d-ef4339970010",
   "metadata": {},
   "outputs": [],
   "source": []
  },
  {
   "cell_type": "code",
   "execution_count": null,
   "id": "138ef529-573b-47cf-bcd8-29b987d952a6",
   "metadata": {},
   "outputs": [],
   "source": [
    "df_self = real_data[real_data[\"RaterType\"] == \"Self\"].drop_duplicates(\n",
    "    subset=[\"ESI_Key\"], keep=\"last\")\n",
    "df_self = df_self[items_cols]\n",
    "df_self"
   ]
  },
  {
   "cell_type": "code",
   "execution_count": null,
   "id": "b4ca806f-c8b6-45e0-8795-a51e0504a22c",
   "metadata": {},
   "outputs": [],
   "source": [
    "df_others = real_data[real_data[\"RaterType\"] != \"Self\"]"
   ]
  },
  {
   "cell_type": "code",
   "execution_count": null,
   "id": "0e761ad7-23f1-44c5-b22d-7ba6f2f63c1a",
   "metadata": {},
   "outputs": [],
   "source": [
    "df_others[[\"ESI_Key\", \"RaterType\"]].groupby(\n",
    "    [\"ESI_Key\", \"RaterType\"]).value_counts()"
   ]
  },
  {
   "cell_type": "code",
   "execution_count": null,
   "id": "91aa5c84-1e7c-4563-9efa-40de5beeb23e",
   "metadata": {},
   "outputs": [],
   "source": []
  },
  {
   "cell_type": "code",
   "execution_count": null,
   "id": "b11c5472-0c92-484e-b3fb-bb3764c10636",
   "metadata": {},
   "outputs": [],
   "source": [
    "\n",
    "# After unstacking, the columns will be multi-level, where the top level is the original columns\n",
    "# and the second level is the 'RaterType'. You might want to flatten this for easier usage.\n",
    "# Flatten the column names if necessary. Here's one way to do it:"
   ]
  },
  {
   "cell_type": "code",
   "execution_count": null,
   "id": "2a386210-f3c4-4c62-ac0e-50e10df3a8b2",
   "metadata": {},
   "outputs": [],
   "source": [
    "df_others = df_others.groupby([\"ESI_Key\", \"RaterType\"])[items_cols[1:]].mean()\n",
    "# df_others[[\"ESI_Key\",\"RaterType\"]].groupby([\"ESI_Key\", \"RaterType\"]).value_counts()\n",
    "df_others = df_others.unstack(level='RaterType')\n",
    "df_others.columns = ['{}_{}'.format(col[0], col[1])\n",
    "                     for col in df_others.columns]\n",
    "# df_others"
   ]
  },
  {
   "cell_type": "code",
   "execution_count": null,
   "id": "5925dcc2-f8c2-4b8c-9551-c63364f6ee48",
   "metadata": {},
   "outputs": [],
   "source": [
    "real_data = pd.merge(df_self, df_others, on=\"ESI_Key\", how=\"left\")\n",
    "# real_data"
   ]
  },
  {
   "cell_type": "code",
   "execution_count": null,
   "id": "2f273bb1-d998-40e1-b9b3-9b48ec46d495",
   "metadata": {},
   "outputs": [],
   "source": [
    "real_data.columns = [c.replace(' ', '_') for c in real_data.columns]\n",
    "real_data.columns"
   ]
  },
  {
   "cell_type": "code",
   "execution_count": null,
   "id": "1886ce83-9930-444a-aed4-fc6c6ee482c1",
   "metadata": {},
   "outputs": [],
   "source": [
    "# real_data[\"ESI_Key\"] = real_data[\"ESI_Key\"].astype('category')\n",
    "# real_data #.groupby([\"ESI_Key\"]).count()"
   ]
  },
  {
   "cell_type": "markdown",
   "id": "1884b06e-e780-4ac0-a42c-4d83869e7b83",
   "metadata": {},
   "source": [
    "### Only use selected columns\n",
    "\n",
    "This will consider FormActualKey as primary key"
   ]
  },
  {
   "cell_type": "code",
   "execution_count": null,
   "id": "2adffd94-8d6c-4f1c-b682-791e4c680c6f",
   "metadata": {},
   "outputs": [],
   "source": [
    "# find numeric columns\n",
    "\n",
    "numeric_cols_df = real_data.select_dtypes(include=[np.number])"
   ]
  },
  {
   "cell_type": "code",
   "execution_count": null,
   "id": "e2acf86e-fade-4c63-8fb2-2ca744e60c01",
   "metadata": {},
   "outputs": [],
   "source": [
    "correlation_matrix = numeric_cols_df[2:].corr()\n",
    "correlation_matrix.style.background_gradient(cmap='coolwarm')"
   ]
  },
  {
   "cell_type": "code",
   "execution_count": null,
   "id": "1cb008d9-a1d7-4386-925d-655db14e87a0",
   "metadata": {},
   "outputs": [],
   "source": [
    "\n",
    "# real_data = data[[\n",
    "#     \"ESI_Key\",\n",
    "#     \"RaterType\",\n",
    "#     \"BMK_S01_Strategic\",\n",
    "#     \"BMK_S02_Quick\",\n",
    "#     \"BMK_S03_Decisive\",\n",
    "#     \"BMK_S04_Change\",\n",
    "#     \"BMK_S05_Leading\",\n",
    "#     \"BMK_S06_Confront\",\n",
    "#     \"BMK_S07_Participative\",\n",
    "#     \"BMK_S08_Build\",\n",
    "#     \"BMK_S09_Compassion\",\n",
    "#     \"BMK_S10_Putting\",\n",
    "#     \"BMK_S11_Respect\"]]\n",
    "# real_data"
   ]
  },
  {
   "cell_type": "code",
   "execution_count": null,
   "id": "e10988bf-2645-4b78-96b3-77542d8a9007",
   "metadata": {},
   "outputs": [],
   "source": [
    "real_data.columns"
   ]
  },
  {
   "cell_type": "markdown",
   "id": "dc47fc32-8dfe-4342-a972-30f3fcf93767",
   "metadata": {},
   "source": [
    "#### Identify distribution of columns"
   ]
  },
  {
   "cell_type": "code",
   "execution_count": null,
   "id": "febb39c9-8f88-456c-af8c-581c4809166e",
   "metadata": {},
   "outputs": [],
   "source": [
    "# from src.distribution import test_col_distributions\n",
    "\n",
    "# results = test_col_distributions(data=real_data.iloc[:,3:5])\n",
    "# results"
   ]
  },
  {
   "cell_type": "markdown",
   "id": "ff7567ff-7cf3-4fbe-9d32-33df7dff414f",
   "metadata": {},
   "source": [
    "#### Create metadata"
   ]
  },
  {
   "cell_type": "code",
   "execution_count": null,
   "id": "228ff166-837d-4dd6-9a59-0ffb84213063",
   "metadata": {},
   "outputs": [],
   "source": [
    "# df_self.dtypes"
   ]
  },
  {
   "cell_type": "code",
   "execution_count": null,
   "id": "908bb339-1e88-42c0-b098-b48ac036beeb",
   "metadata": {},
   "outputs": [],
   "source": [
    "from sdv.metadata import SingleTableMetadata\n",
    "metadata = SingleTableMetadata()\n",
    "\n",
    "metadata.detect_from_dataframe(real_data)\n",
    "data_dict = metadata.to_dict()\n",
    "\n",
    "metadata.validate()"
   ]
  },
  {
   "cell_type": "code",
   "execution_count": null,
   "id": "6b616b97-2f2f-42e2-b97b-e8c7f743150d",
   "metadata": {},
   "outputs": [],
   "source": [
    "for c in real_data.columns[1:]:\n",
    "    metadata.update_column(\n",
    "        column_name=c,\n",
    "        sdtype='numerical',\n",
    "        computer_representation='Float')"
   ]
  },
  {
   "cell_type": "code",
   "execution_count": null,
   "id": "2d46fa3a-4158-4e77-8101-8ddc6186b0ad",
   "metadata": {},
   "outputs": [],
   "source": [
    "# metadata.to_dict()"
   ]
  },
  {
   "cell_type": "code",
   "execution_count": null,
   "id": "351cfa9e-2521-47f5-8d45-0e02aeb7f68d",
   "metadata": {},
   "outputs": [],
   "source": []
  },
  {
   "cell_type": "code",
   "execution_count": null,
   "id": "1ece6a96-8826-4bc6-b50b-aa107f5ccef6",
   "metadata": {},
   "outputs": [],
   "source": [
    "# # There are some column types that metadata discovered.\n",
    "# incorrect_type_cols = real_data.columns[7:]\n",
    "# incorrect_type_cols"
   ]
  },
  {
   "cell_type": "code",
   "execution_count": null,
   "id": "e1e40eaf-dd4b-449d-a6e9-bb4fdff7094c",
   "metadata": {},
   "outputs": [],
   "source": []
  },
  {
   "cell_type": "code",
   "execution_count": null,
   "id": "8dd53817-b4e2-4449-b4b1-7e3cb969a432",
   "metadata": {},
   "outputs": [],
   "source": []
  },
  {
   "cell_type": "code",
   "execution_count": null,
   "id": "83875d31-504a-4300-a4f4-203f20b3815f",
   "metadata": {},
   "outputs": [],
   "source": []
  },
  {
   "cell_type": "markdown",
   "id": "b165d761-c013-4cb7-a10d-dcc29af998fa",
   "metadata": {},
   "source": [
    "### 1. Train synthesizer\n",
    "##### Using Gaussian-Copula Synthesizer"
   ]
  },
  {
   "cell_type": "code",
   "execution_count": null,
   "id": "b7d4bd58-be6b-4ab3-841f-af0b014a4863",
   "metadata": {},
   "outputs": [],
   "source": [
    "from sdv.single_table import GaussianCopulaSynthesizer"
   ]
  },
  {
   "cell_type": "code",
   "execution_count": null,
   "id": "1b7f482c-8518-4263-ba8c-25012dc6645e",
   "metadata": {},
   "outputs": [],
   "source": [
    "# step 1: create the synthesizer\n",
    "synthesizer = GaussianCopulaSynthesizer(\n",
    "    metadata,\n",
    "    enforce_min_max_values=True,\n",
    "    # enforcing_rounding=False,\n",
    "    numerical_distributions={\n",
    "\n",
    "    },\n",
    "    default_distribution='norm'\n",
    ")\n",
    "\n",
    "# step 2: Train the synthesizer\n",
    "synthesizer.fit(real_data)"
   ]
  },
  {
   "cell_type": "code",
   "execution_count": null,
   "id": "a0ca5cb9-4e79-4498-8865-e4cca6bb6694",
   "metadata": {},
   "outputs": [],
   "source": [
    "# step 3: Generate synthetic data\n",
    "synthetic_data = synthesizer.sample(num_rows=100)"
   ]
  },
  {
   "cell_type": "code",
   "execution_count": null,
   "id": "5cb558f8-e451-4b80-9c76-5687de03d120",
   "metadata": {},
   "outputs": [],
   "source": [
    "real_data[0:100]"
   ]
  },
  {
   "cell_type": "code",
   "execution_count": null,
   "id": "2bcd056f-d9f9-4a8b-8d37-43b1dbed493e",
   "metadata": {},
   "outputs": [],
   "source": [
    "synth_numeric_df = synthetic_data.select_dtypes(include=[np.number])\n",
    "synth_corr = synth_numeric_df.corr()"
   ]
  },
  {
   "cell_type": "code",
   "execution_count": null,
   "id": "f6047f4b-d508-417a-8f33-dd451c72e844",
   "metadata": {},
   "outputs": [],
   "source": [
    "synth_corr.style.background_gradient(cmap='coolwarm')"
   ]
  },
  {
   "cell_type": "code",
   "execution_count": null,
   "id": "9190be06-6a5c-41ac-a1de-bdec4346a39a",
   "metadata": {},
   "outputs": [],
   "source": []
  },
  {
   "cell_type": "markdown",
   "id": "a1e9b2a9-6178-4b91-8062-326fc863d574",
   "metadata": {},
   "source": [
    "### 2. Train Synthesizer\n",
    "#### Using CTGAN"
   ]
  },
  {
   "cell_type": "code",
   "execution_count": null,
   "id": "9dd55be2-0d8d-431b-8144-48a52f06362a",
   "metadata": {},
   "outputs": [],
   "source": [
    "from sdv.single_table import CTGANSynthesizer"
   ]
  },
  {
   "cell_type": "code",
   "execution_count": null,
   "id": "184de555-cafc-4258-9e75-29bc8dc7fced",
   "metadata": {},
   "outputs": [],
   "source": [
    "import torch\n",
    "torch.cuda.is_available()"
   ]
  },
  {
   "cell_type": "code",
   "execution_count": null,
   "id": "1272bfae-0d76-48b7-aa6f-bb9daf03d473",
   "metadata": {},
   "outputs": [],
   "source": [
    "numeric_cols = real_data.select_dtypes(include=[np.number]).columns"
   ]
  },
  {
   "cell_type": "code",
   "execution_count": null,
   "id": "7038324e-80e0-480f-bda2-ad24d4bb520f",
   "metadata": {},
   "outputs": [],
   "source": [
    "# normalize the data\n",
    "# from sklearn.preprocessing import StandardScaler\n",
    "\n",
    "# scaler = StandardScaler()\n",
    "\n",
    "# real_data_norm = real_data.copy()\n",
    "# real_data_norm[numeric_cols] = scaler.fit_transform(real_data[numeric_cols]).copy()"
   ]
  },
  {
   "cell_type": "code",
   "execution_count": null,
   "id": "c1e79629-2d20-4dee-bf93-ee0a50125b39",
   "metadata": {},
   "outputs": [],
   "source": [
    "from sdv.metadata import SingleTableMetadata\n",
    "metadata = SingleTableMetadata()\n",
    "\n",
    "metadata.detect_from_dataframe(real_data)\n",
    "data_dict = metadata.to_dict()\n",
    "\n",
    "metadata.validate()"
   ]
  },
  {
   "cell_type": "code",
   "execution_count": null,
   "id": "8be033b5-a4bd-41a0-839b-38870528c596",
   "metadata": {},
   "outputs": [],
   "source": [
    "# metadata.to_dict()"
   ]
  },
  {
   "cell_type": "code",
   "execution_count": null,
   "id": "f4de814d-2a0b-4e4f-ad55-963760b22cc0",
   "metadata": {},
   "outputs": [],
   "source": [
    "real_data"
   ]
  },
  {
   "cell_type": "code",
   "execution_count": null,
   "id": "440c6c00-c2a9-41b2-a56f-48d093a6c4c5",
   "metadata": {},
   "outputs": [],
   "source": [
    "model_name = \"./data/bmk2018_ctgan_comp.pkl\"\n",
    "if os.path.exists(model_name):\n",
    "    synthesizer = CTGANSynthesizer.load(filepath=model_name)\n",
    "\n",
    "else:\n",
    "    synthesizer = CTGANSynthesizer(metadata,\n",
    "                                   epochs=500,\n",
    "                                   enforce_rounding=True,\n",
    "                                   enforce_min_max_values=True,\n",
    "                                   verbose=True,\n",
    "                                   cuda=True)\n",
    "    synthesizer.fit(real_data)\n",
    "\n",
    "    synthesizer.save(filepath=model_name)"
   ]
  },
  {
   "cell_type": "code",
   "execution_count": null,
   "id": "8f6b10fb-955e-4f7e-9b0b-5d8dbc84d4e0",
   "metadata": {},
   "outputs": [],
   "source": [
    "synthesizer.get_loss_values()"
   ]
  },
  {
   "cell_type": "code",
   "execution_count": null,
   "id": "8091896a-9298-4d32-866d-0d238a1a77b7",
   "metadata": {},
   "outputs": [],
   "source": []
  },
  {
   "cell_type": "code",
   "execution_count": null,
   "id": "06e8b4b5-5487-4fab-a1ae-c9b14ea564e7",
   "metadata": {},
   "outputs": [],
   "source": [
    "ctgan_data = synthesizer.sample(num_rows=15000)"
   ]
  },
  {
   "cell_type": "code",
   "execution_count": null,
   "id": "843a56cb-b136-46e6-a11a-8479d791d5e8",
   "metadata": {},
   "outputs": [],
   "source": []
  },
  {
   "cell_type": "code",
   "execution_count": null,
   "id": "0c007be2-faf9-4c73-94e2-30b193c0cbbe",
   "metadata": {},
   "outputs": [],
   "source": [
    "ctgan_data"
   ]
  },
  {
   "cell_type": "code",
   "execution_count": null,
   "id": "f6f6e276-f6bd-456f-af2e-d71982abbc2c",
   "metadata": {},
   "outputs": [],
   "source": []
  },
  {
   "cell_type": "code",
   "execution_count": null,
   "id": "f2f4f9fb-a729-4fcd-9a81-134719940b0d",
   "metadata": {},
   "outputs": [],
   "source": [
    "ctgan_data[2:]"
   ]
  },
  {
   "cell_type": "code",
   "execution_count": null,
   "id": "fff64c7d-7cff-4911-9893-94d83c067049",
   "metadata": {},
   "outputs": [],
   "source": [
    "correlation_matrix.style.background_gradient(cmap='coolwarm')"
   ]
  },
  {
   "cell_type": "code",
   "execution_count": null,
   "id": "a5ccd074-297c-4bf6-b06b-e6c351335822",
   "metadata": {},
   "outputs": [],
   "source": [
    "ctgan_corr = ctgan_data.corr()\n",
    "ctgan_corr.style.background_gradient(cmap='coolwarm')"
   ]
  },
  {
   "cell_type": "code",
   "execution_count": null,
   "id": "46a82673-6692-4757-b2b3-d6b081bc335e",
   "metadata": {},
   "outputs": [],
   "source": [
    "corr_diff = ctgan_corr - correlation_matrix\n",
    "corr_diff.style.background_gradient(cmap=\"coolwarm\")"
   ]
  },
  {
   "cell_type": "code",
   "execution_count": null,
   "id": "236b5484-bde4-41e8-820a-2c0302ed4338",
   "metadata": {},
   "outputs": [],
   "source": [
    "from sdv.evaluation.single_table import run_diagnostic\n",
    "\n",
    "diagnostic = run_diagnostic(\n",
    "    real_data=real_data,\n",
    "    synthetic_data=ctgan_data,\n",
    "    metadata=metadata\n",
    ")"
   ]
  },
  {
   "cell_type": "code",
   "execution_count": null,
   "id": "4b71857d-cd05-4a14-a7e3-490abc793c87",
   "metadata": {},
   "outputs": [],
   "source": [
    "diagnostic.get_details(property_name='Data Validity')"
   ]
  },
  {
   "cell_type": "code",
   "execution_count": null,
   "id": "08e534e5-4ca1-4c15-a4c8-2f02d9f03253",
   "metadata": {},
   "outputs": [],
   "source": [
    "from sdv.evaluation.single_table import evaluate_quality\n",
    "\n",
    "quality_report = evaluate_quality(\n",
    "    real_data,\n",
    "    ctgan_data,\n",
    "    metadata\n",
    ")"
   ]
  },
  {
   "cell_type": "code",
   "execution_count": null,
   "id": "832f9d29-8554-4f44-bdf9-b3ab08e53ac8",
   "metadata": {},
   "outputs": [],
   "source": [
    "quality_report.get_details('Column Shapes')\n",
    "quality_report.get_details('Data Validity')"
   ]
  },
  {
   "cell_type": "markdown",
   "id": "7e8c8c52-db63-4bd6-bbea-462fdd17cd23",
   "metadata": {},
   "source": [
    "#### Correlation"
   ]
  },
  {
   "cell_type": "code",
   "execution_count": null,
   "id": "b46ee854-690d-415f-85c1-e284fae275db",
   "metadata": {},
   "outputs": [],
   "source": [
    "from sdmetrics.column_pairs import CorrelationSimilarity\n",
    "\n",
    "CorrelationSimilarity.compute(\n",
    "    real_data=real_data[['BMK_S15_SelfAware', 'BMK_D03_DiffChange']],\n",
    "    synthetic_data=ctgan_data[['BMK_S15_SelfAware', 'BMK_D03_DiffChange']],\n",
    "    coefficient='Pearson'\n",
    ")"
   ]
  },
  {
   "cell_type": "code",
   "execution_count": null,
   "id": "77b20e4a-d1c7-47cd-b39f-3016dbebd607",
   "metadata": {},
   "outputs": [],
   "source": [
    "from sdmetrics.column_pairs import ContingencySimilarity\n",
    "\n",
    "ContingencySimilarity.compute(\n",
    "    real_data=real_data[[\"ESI_Key\", \"FormActualKey\", \"BMK_S01_Strategic\", \"BMK_S02_Quick\", \"BMK_S03_Decisive\", \"BMK_S04_Change\", \"BMK_S05_Leading\", \"BMK_S06_Confront\", \"BMK_S07_Participative\", \"BMK_S08_Build\", \"BMK_S09_Compassion\",\n",
    "                         \"BMK_S10_Putting\", \"BMK_S11_Respect\", \"BMK_S12_Taking\", \"BMK_S13_Composure\", \"BMK_S14_Balance\", \"BMK_S15_SelfAware\", \"BMK_S16_Career\", \"BMK_D01_Interper\", \"BMK_D02_DiffBuild\", \"BMK_D03_DiffChange\", \"BMK_D04_Failure\", \"BMK_D05_Narrow\"]],\n",
    "    synthetic_data=ctgan_data[[\"ESI_Key\", \"FormActualKey\", \"BMK_S01_Strategic\", \"BMK_S02_Quick\", \"BMK_S03_Decisive\", \"BMK_S04_Change\", \"BMK_S05_Leading\", \"BMK_S06_Confront\", \"BMK_S07_Participative\", \"BMK_S08_Build\", \"BMK_S09_Compassion\",\n",
    "                               \"BMK_S10_Putting\", \"BMK_S11_Respect\", \"BMK_S12_Taking\", \"BMK_S13_Composure\", \"BMK_S14_Balance\", \"BMK_S15_SelfAware\", \"BMK_S16_Career\", \"BMK_D01_Interper\", \"BMK_D02_DiffBuild\", \"BMK_D03_DiffChange\", \"BMK_D04_Failure\", \"BMK_D05_Narrow\"]]\n",
    ")"
   ]
  },
  {
   "cell_type": "code",
   "execution_count": null,
   "id": "b73a8061-f06d-4233-a0e4-11135f3e5ba0",
   "metadata": {},
   "outputs": [],
   "source": [
    "real_data[['BMK_S02_Quick']].corrwith(ctgan_data[['BMK_S02_Quick']])"
   ]
  },
  {
   "cell_type": "code",
   "execution_count": null,
   "id": "7d48ba65-e6e1-41dc-b688-2f916abdfff4",
   "metadata": {},
   "outputs": [],
   "source": [
    "import pandas as pd\n",
    "import numpy as np\n",
    "import seaborn as sns\n",
    "import matplotlib.pyplot as plt\n",
    "\n",
    "\n",
    "# Initialize an empty correlation matrix\n",
    "correlation_matrix = pd.DataFrame()\n",
    "\n",
    "# Iterate through columns in df1 and calculate correlation with columns in df2\n",
    "for column in real_data.columns:\n",
    "    correlations = real_data[column].corr(ctgan_data)\n",
    "    correlation_matrix[column] = correlations\n",
    "\n",
    "# Create a heatmap for visualization\n",
    "sns.heatmap(correlation_matrix, annot=True, cmap='coolwarm', vmin=-1, vmax=1)\n",
    "\n",
    "# Add labels and title\n",
    "plt.title('Correlation Between Columns in df1 and Columns in df2')\n",
    "plt.xlabel('df2 Columns')\n",
    "plt.ylabel('df1 Columns')\n",
    "\n",
    "# Show the plot\n",
    "plt.show()"
   ]
  },
  {
   "cell_type": "markdown",
   "id": "0016b651-bbe4-4223-8fa4-b1bfadd8576e",
   "metadata": {},
   "source": [
    "#### Visualization"
   ]
  },
  {
   "cell_type": "code",
   "execution_count": null,
   "id": "ac6c56a6-9a50-4787-b1dc-27c1ee93702a",
   "metadata": {},
   "outputs": [],
   "source": [
    "from sdv.evaluation.single_table import get_column_plot\n",
    "\n",
    "fig = get_column_plot(\n",
    "    real_data=data,\n",
    "    synthetic_data=ctgan_data,\n",
    "    metadata=metadata,\n",
    "    plot_type='distplot',\n",
    "    column_name='BMK_D02_DiffBuild'\n",
    ")\n",
    "\n",
    "fig.show()"
   ]
  },
  {
   "cell_type": "code",
   "execution_count": null,
   "id": "ad23704b-ef72-43f8-926f-4205fda27129",
   "metadata": {},
   "outputs": [],
   "source": [
    "from sdv.evaluation.single_table import get_column_plot\n",
    "\n",
    "fig = get_column_plot(\n",
    "    real_data=data,\n",
    "    synthetic_data=ctgan_data,\n",
    "    metadata=metadata,\n",
    "    plot_type='bar',\n",
    "    column_name='BMK_D02_DiffBuild'\n",
    ")\n",
    "\n",
    "fig.show()"
   ]
  },
  {
   "cell_type": "code",
   "execution_count": null,
   "id": "261eaad4-cd16-41ba-8c92-c07dfbc07f1d",
   "metadata": {},
   "outputs": [],
   "source": []
  }
 ],
 "metadata": {
  "kernelspec": {
   "display_name": "azureml_py38",
   "language": "python",
   "name": "python3"
  },
  "language_info": {
   "codemirror_mode": {
    "name": "ipython",
    "version": 3
   },
   "file_extension": ".py",
   "mimetype": "text/x-python",
   "name": "python",
   "nbconvert_exporter": "python",
   "pygments_lexer": "ipython3",
   "version": "3.11.4"
  }
 },
 "nbformat": 4,
 "nbformat_minor": 5
}
